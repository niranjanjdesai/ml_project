{
 "cells": [
  {
   "cell_type": "markdown",
   "metadata": {},
   "source": [
    "# Setup"
   ]
  },
  {
   "cell_type": "code",
<<<<<<< HEAD
   "execution_count": 4,
=======
   "execution_count": 1,
>>>>>>> 907a4840d9eccd5f41b7094b687cd0f7da416fc0
   "metadata": {},
   "outputs": [],
   "source": [
    "# To support both python 2 and python 3\n",
    "from __future__ import division, print_function, unicode_literals\n",
    "\n",
    "# Common imports\n",
    "import numpy as np\n",
    "import pandas as pd\n",
    "import os\n",
    "\n",
    "# to make this notebook's output stable across runs\n",
    "np.random.seed(42)\n",
    "\n",
    "# To plot pretty figures\n",
    "%matplotlib inline\n",
    "import matplotlib as mpl\n",
    "import matplotlib.pyplot as plt\n",
    "mpl.rc('axes', labelsize=14)\n",
    "mpl.rc('xtick', labelsize=12)\n",
    "mpl.rc('ytick', labelsize=12)\n",
    "\n",
    "# Where to save the figures\n",
    "PROJECT_ROOT_DIR = \"../\"\n",
    "CHAPTER_ID = \"classification\"\n",
    "\n",
    "def save_fig(fig_id, tight_layout=True):\n",
    "    path = os.path.join(PROJECT_ROOT_DIR, \"images\", CHAPTER_ID, fig_id + \".png\")\n",
    "    print(\"Saving figure\", fig_id)\n",
    "    if tight_layout:\n",
    "        plt.tight_layout()\n",
    "    plt.savefig(path, format='png', dpi=300)"
   ]
  },
  {
   "cell_type": "markdown",
   "metadata": {},
   "source": [
    "# MNIST"
   ]
  },
  {
   "cell_type": "markdown",
   "metadata": {},
   "source": [
    "**Warning**: `fetch_mldata()` is deprecated since Scikit-Learn 0.20. You should use `fetch_openml()` instead. However, it returns the unsorted MNIST dataset, whereas `fetch_mldata()` returned the dataset sorted by target (the training set and the test test were sorted separately). In general, this is fine, but if you want to get the exact same results as before, you need to sort the dataset using the following function:"
   ]
  },
  {
   "cell_type": "code",
<<<<<<< HEAD
   "execution_count": 5,
=======
   "execution_count": 2,
>>>>>>> 907a4840d9eccd5f41b7094b687cd0f7da416fc0
   "metadata": {},
   "outputs": [],
   "source": [
    "d = os.path.join(PROJECT_ROOT_DIR, \"images\", CHAPTER_ID)\n",
    "os.makedirs(name=d, exist_ok=True)"
   ]
  },
  {
   "cell_type": "code",
<<<<<<< HEAD
   "execution_count": 6,
=======
   "execution_count": 3,
>>>>>>> 907a4840d9eccd5f41b7094b687cd0f7da416fc0
   "metadata": {},
   "outputs": [],
   "source": [
    "def sort_by_target(mnist):\n",
    "    reorder_train = np.array(sorted([(target, i) for i, target in enumerate(mnist.target[:60000])]))[:, 1]\n",
    "    reorder_test = np.array(sorted([(target, i) for i, target in enumerate(mnist.target[60000:])]))[:, 1]\n",
    "    mnist.data[:60000] = mnist.data[reorder_train]\n",
    "    mnist.target[:60000] = mnist.target[reorder_train]\n",
    "    mnist.data[60000:] = mnist.data[reorder_test + 60000]\n",
    "    mnist.target[60000:] = mnist.target[reorder_test + 60000]"
   ]
  },
  {
   "cell_type": "code",
<<<<<<< HEAD
   "execution_count": 7,
=======
   "execution_count": 4,
>>>>>>> 907a4840d9eccd5f41b7094b687cd0f7da416fc0
   "metadata": {},
   "outputs": [
    {
     "data": {
      "text/plain": [
       "(array([[0., 0., 0., ..., 0., 0., 0.],\n",
       "        [0., 0., 0., ..., 0., 0., 0.],\n",
       "        [0., 0., 0., ..., 0., 0., 0.],\n",
       "        ...,\n",
       "        [0., 0., 0., ..., 0., 0., 0.],\n",
       "        [0., 0., 0., ..., 0., 0., 0.],\n",
       "        [0., 0., 0., ..., 0., 0., 0.]]),\n",
       " array([0, 0, 0, ..., 9, 9, 9], dtype=int8))"
      ]
     },
<<<<<<< HEAD
     "execution_count": 7,
=======
     "execution_count": 4,
>>>>>>> 907a4840d9eccd5f41b7094b687cd0f7da416fc0
     "metadata": {},
     "output_type": "execute_result"
    }
   ],
   "source": [
    "try:\n",
    "    from sklearn.datasets import fetch_openml\n",
    "    mnist = fetch_openml('mnist_784', version=1, cache=True)\n",
    "    mnist.target = mnist.target.astype(np.int8) # fetch_openml() returns targets as strings\n",
    "    sort_by_target(mnist) # fetch_openml() returns an unsorted dataset\n",
    "except ImportError:\n",
    "    from sklearn.datasets import fetch_mldata\n",
    "    mnist = fetch_mldata('MNIST original')\n",
    "mnist[\"data\"], mnist[\"target\"]"
   ]
  },
  {
   "cell_type": "code",
<<<<<<< HEAD
   "execution_count": 8,
=======
   "execution_count": 5,
>>>>>>> 907a4840d9eccd5f41b7094b687cd0f7da416fc0
   "metadata": {},
   "outputs": [
    {
     "data": {
      "text/plain": [
       "sklearn.utils.Bunch"
      ]
     },
<<<<<<< HEAD
     "execution_count": 8,
=======
     "execution_count": 5,
>>>>>>> 907a4840d9eccd5f41b7094b687cd0f7da416fc0
     "metadata": {},
     "output_type": "execute_result"
    }
   ],
   "source": [
    "type(mnist)"
   ]
  },
  {
   "cell_type": "code",
<<<<<<< HEAD
   "execution_count": 9,
=======
   "execution_count": 6,
>>>>>>> 907a4840d9eccd5f41b7094b687cd0f7da416fc0
   "metadata": {},
   "outputs": [
    {
     "data": {
      "text/plain": [
       "dict_keys(['data', 'target', 'frame', 'feature_names', 'target_names', 'DESCR', 'details', 'categories', 'url'])"
      ]
     },
<<<<<<< HEAD
     "execution_count": 9,
=======
     "execution_count": 6,
>>>>>>> 907a4840d9eccd5f41b7094b687cd0f7da416fc0
     "metadata": {},
     "output_type": "execute_result"
    }
   ],
   "source": [
    "mnist.keys()"
   ]
  },
  {
   "cell_type": "code",
<<<<<<< HEAD
   "execution_count": 10,
=======
   "execution_count": 7,
>>>>>>> 907a4840d9eccd5f41b7094b687cd0f7da416fc0
   "metadata": {},
   "outputs": [
    {
     "data": {
      "text/plain": [
       "(70000, 784)"
      ]
     },
<<<<<<< HEAD
     "execution_count": 10,
=======
     "execution_count": 7,
>>>>>>> 907a4840d9eccd5f41b7094b687cd0f7da416fc0
     "metadata": {},
     "output_type": "execute_result"
    }
   ],
   "source": [
    "mnist.data.shape"
   ]
  },
  {
   "cell_type": "code",
<<<<<<< HEAD
   "execution_count": 11,
=======
   "execution_count": 8,
>>>>>>> 907a4840d9eccd5f41b7094b687cd0f7da416fc0
   "metadata": {},
   "outputs": [
    {
     "data": {
      "text/plain": [
       "(70000, 784)"
      ]
     },
<<<<<<< HEAD
     "execution_count": 11,
=======
     "execution_count": 8,
>>>>>>> 907a4840d9eccd5f41b7094b687cd0f7da416fc0
     "metadata": {},
     "output_type": "execute_result"
    }
   ],
   "source": [
    "X, y = mnist[\"data\"], mnist[\"target\"]\n",
    "X.shape"
   ]
  },
  {
   "cell_type": "code",
<<<<<<< HEAD
   "execution_count": 12,
=======
   "execution_count": 9,
>>>>>>> 907a4840d9eccd5f41b7094b687cd0f7da416fc0
   "metadata": {},
   "outputs": [
    {
     "data": {
      "text/plain": [
       "(70000,)"
      ]
     },
<<<<<<< HEAD
     "execution_count": 12,
=======
     "execution_count": 9,
>>>>>>> 907a4840d9eccd5f41b7094b687cd0f7da416fc0
     "metadata": {},
     "output_type": "execute_result"
    }
   ],
   "source": [
    "y.shape"
   ]
  },
  {
   "cell_type": "code",
<<<<<<< HEAD
   "execution_count": 13,
=======
   "execution_count": 10,
>>>>>>> 907a4840d9eccd5f41b7094b687cd0f7da416fc0
   "metadata": {},
   "outputs": [
    {
     "data": {
      "text/plain": [
       "784"
      ]
     },
<<<<<<< HEAD
     "execution_count": 13,
=======
     "execution_count": 10,
>>>>>>> 907a4840d9eccd5f41b7094b687cd0f7da416fc0
     "metadata": {},
     "output_type": "execute_result"
    }
   ],
   "source": [
    "28*28"
   ]
  },
  {
   "cell_type": "code",
<<<<<<< HEAD
   "execution_count": 14,
=======
   "execution_count": 11,
>>>>>>> 907a4840d9eccd5f41b7094b687cd0f7da416fc0
   "metadata": {},
   "outputs": [
    {
     "data": {
      "text/plain": [
       "numpy.ndarray"
      ]
     },
<<<<<<< HEAD
     "execution_count": 14,
=======
     "execution_count": 11,
>>>>>>> 907a4840d9eccd5f41b7094b687cd0f7da416fc0
     "metadata": {},
     "output_type": "execute_result"
    }
   ],
   "source": [
    "type(X[0])"
   ]
  },
  {
   "cell_type": "code",
<<<<<<< HEAD
   "execution_count": 15,
=======
   "execution_count": 12,
>>>>>>> 907a4840d9eccd5f41b7094b687cd0f7da416fc0
   "metadata": {},
   "outputs": [
    {
     "data": {
      "text/plain": [
       "(784,)"
      ]
     },
<<<<<<< HEAD
     "execution_count": 15,
=======
     "execution_count": 12,
>>>>>>> 907a4840d9eccd5f41b7094b687cd0f7da416fc0
     "metadata": {},
     "output_type": "execute_result"
    }
   ],
   "source": [
    "X[0].shape"
   ]
  },
  {
   "cell_type": "code",
<<<<<<< HEAD
   "execution_count": 16,
=======
   "execution_count": 13,
>>>>>>> 907a4840d9eccd5f41b7094b687cd0f7da416fc0
   "metadata": {},
   "outputs": [
    {
     "name": "stdout",
     "output_type": "stream",
     "text": [
      "Saving figure some_digit_plot\n"
     ]
    },
    {
     "data": {
      "image/png": "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\n",
      "text/plain": [
       "<Figure size 432x288 with 1 Axes>"
      ]
     },
     "metadata": {
      "needs_background": "light"
     },
     "output_type": "display_data"
    },
    {
     "name": "stdout",
     "output_type": "stream",
     "text": [
      "Saving figure some_digit_plot\n"
     ]
    },
    {
     "data": {
      "image/png": "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\n",
      "text/plain": [
       "<Figure size 432x288 with 1 Axes>"
      ]
     },
     "metadata": {
      "needs_background": "light"
     },
     "output_type": "display_data"
    },
    {
     "name": "stdout",
     "output_type": "stream",
     "text": [
      "Saving figure some_digit_plot\n"
     ]
    },
    {
     "data": {
      "image/png": "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\n",
      "text/plain": [
       "<Figure size 432x288 with 1 Axes>"
      ]
     },
     "metadata": {
      "needs_background": "light"
     },
     "output_type": "display_data"
    },
    {
     "name": "stdout",
     "output_type": "stream",
     "text": [
      "Saving figure some_digit_plot\n"
     ]
    },
    {
     "data": {
      "image/png": "iVBORw0KGgoAAAANSUhEUgAAARgAAAEYCAYAAACHjumMAAAABHNCSVQICAgIfAhkiAAAAAlwSFlzAAALEgAACxIB0t1+/AAAADh0RVh0U29mdHdhcmUAbWF0cGxvdGxpYiB2ZXJzaW9uMy4yLjEsIGh0dHA6Ly9tYXRwbG90bGliLm9yZy+j8jraAAAHeUlEQVR4nO3dsUuVbRzH4XOyhqChwQYTWmtqyKClvUE0aKiGGpqEFv+D2iIIWiKoXIRqKlwKhEbdJJCGKBAqh6IwKIdaws67CYH4/MzzPeZ5r2v0/LjP3Rk+7w3vzfO0O51OCyBhz05vAOhfAgPECAwQIzBAjMAAMXsbPve/mICK9kZ/dIIBYgQGiBEYIEZggBiBAWIEBogRGCBGYIAYgQFiBAaIERggRmCAGIEBYgQGiBEYIEZggBiBAWIEBogRGCBGYIAYgQFiBAaIERggRmCAGIEBYgQGiBEYIEZggBiBAWIEBogRGCBGYIAYgQFiBAaIERggRmCAGIEBYvbu9AboT7Ozs6W50dHRxpnh4eHSWg8ePGicOXnyZGmtQ4cOlebYnBMMECMwQIzAADECA8QIDBAjMECMwAAxAgPECAwQ4yYvO2pgYKBx5vPnz6W1xsfHG2fGxsZKa83MzJTm2JwTDBAjMECMwAAxAgPECAwQIzBAjMAAMQIDxLhox7rv3783zly9erW01tzc3Ha3E1F9ZCbd4QQDxAgMECMwQIzAADECA8QIDBAjMECMwAAxAgPEtDudzmafb/oh/aVy+/bKlSultd6/f1+aqzwycyc8ffq0cebs2bM92Mmu0d7oj04wQIzAADECA8QIDBAjMECMwAAxAgPECAwQ45GZrPv27VvjzM+fP3uwk503MTHROLNnT+2/z9X3YfcjJxggRmCAGIEBYgQGiBEYIEZggBiBAWIEBogRGCDGTd5dbnJysnHmzp07PdjJnxoexbpubW0tvJO/8+XLl8aZ5eXlHuxkd3OCAWIEBogRGCBGYIAYgQFiBAaIERggRmCAGBftdrl2e8NXAv9hJ97/XL1Ad/78+caZ06dPl9aan59vnJmZmSmtVdl/da2LFy82zgwODpbW2m2cYIAYgQFiBAaIERggRmCAGIEBYgQGiBEYIEZggBg3eXfAx48fG2fm5uZKaz18+HC721l38ODBxpnqjdORkZHS3N27dxtn9u/fX1prZWWlNNctlZvDrVartbq62jjjJi/AFgkMECMwQIzAADECA8QIDBAjMECMwAAxLtp10atXr0pzly5dapx5/fp1aa1uPg7z8uXLjTO3b9/u2vdVLS0tleZu3LgR3glb5QQDxAgMECMwQIzAADECA8QIDBAjMECMwAAxAgPEuMnbRdXHXL59+za8k/5y+PDh0tzExETjzP3797e7nS27fv1648yjR496sJPec4IBYgQGiBEYIEZggBiBAWIEBogRGCBGYIAYF+2Kfvz40Tjz5s2b0lpra2uNM51Op7TWsWPHGmdevHhRWmtoaKg096/6/ft340zlt2+1ar9/5bdvtVqtW7duleb6kRMMECMwQIzAADECA8QIDBAjMECMwAAxAgPECAwQ4yZv0bVr1xpnpqamSmtVXlhfvXFaeUzkbr+h++nTp9Jc5fev/PatVu2W7uPHj0tr7fbffzucYIAYgQFiBAaIERggRmCAGIEBYgQGiBEYIEZggBg3eYsWFxd3egsb+vr1a+PMr1+/Smvt27dvu9vpG9PT040zx48fz29kl3OCAWIEBogRGCBGYIAYgQFiBAaIERggRmCAGBftikZHRxtn5ufne7CTrX/n6upqaa3BwcHtbmfdhw8fSnPPnj1rnKlcJqwaGxsrzb18+bJxZmRkZLvb6XtOMECMwAAxAgPECAwQIzBAjMAAMQIDxAgMECMwQEy70+ls9vmmH/6fHD16tHHm3bt3Xfu+EydOlOaePHnSOHPkyJHtbmfLZmdnS3Pj4+Phnfzp+fPnpbkzZ86Ed9J32hv90QkGiBEYIEZggBiBAWIEBogRGCBGYIAYgQFiPDKzqPJ4xKWlpa5938LCQmnu5s2bjTPVx0RWHl9579690loNFzjXtdsb3s/6K5OTk40zLtD1lhMMECMwQIzAADECA8QIDBAjMECMwAAxAgPECAwQ4yZv0dDQUOPMwMBA175vbW2tNDc1NdWVmarqv7G6/8p6g4ODpbXOnTtXmqN3nGCAGIEBYgQGiBEYIEZggBiBAWIEBogRGCDGRbuixcXFnd7CrnLgwIHS3PDwcOPM9PR0aa1Tp06V5ugdJxggRmCAGIEBYgQGiBEYIEZggBiBAWIEBogRGCCm3fCS8tobzP8HVlZWGmcuXLhQWmt+fr5xppuPnOymsbGx0lz1JfMTExPb2Q7/jvZGf3SCAWIEBogRGCBGYIAYgQFiBAaIERggRmCAGBftumh5ebk0V7mQt7CwUFqrctGu+m7qyvu3R0ZGSmtV3ydN33DRDugtgQFiBAaIERggRmCAGIEBYgQGiBEYIEZggBg3eYFucJMX6C2BAWIEBogRGCBGYIAYgQFiBAaIERggRmCAGIEBYgQGiBEYIEZggBiBAWIEBogRGCBGYIAYgQFiBAaIERggRmCAGIEBYgQGiBEYIEZggBiBAWIEBogRGCBGYIAYgQFiBAaIERggRmCAGIEBYgQGiBEYIEZggJi9DZ+3e7ILoC85wQAxAgPECAwQIzBAjMAAMQIDxPwHx4AQEZfTJSEAAAAASUVORK5CYII=\n",
      "text/plain": [
       "<Figure size 432x288 with 1 Axes>"
      ]
     },
     "metadata": {
      "needs_background": "light"
     },
     "output_type": "display_data"
    },
    {
     "name": "stdout",
     "output_type": "stream",
     "text": [
      "Saving figure some_digit_plot\n"
     ]
    },
    {
     "data": {
      "image/png": "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\n",
      "text/plain": [
       "<Figure size 432x288 with 1 Axes>"
      ]
     },
     "metadata": {
      "needs_background": "light"
     },
     "output_type": "display_data"
    },
    {
     "name": "stdout",
     "output_type": "stream",
     "text": [
      "Saving figure some_digit_plot\n"
     ]
    },
    {
     "data": {
      "image/png": "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\n",
      "text/plain": [
       "<Figure size 432x288 with 1 Axes>"
      ]
     },
     "metadata": {
      "needs_background": "light"
     },
     "output_type": "display_data"
    },
    {
     "name": "stdout",
     "output_type": "stream",
     "text": [
      "Saving figure some_digit_plot\n"
     ]
    },
    {
     "data": {
      "image/png": "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\n",
      "text/plain": [
       "<Figure size 432x288 with 1 Axes>"
      ]
     },
     "metadata": {
      "needs_background": "light"
     },
     "output_type": "display_data"
    },
    {
     "name": "stdout",
     "output_type": "stream",
     "text": [
      "Saving figure some_digit_plot\n"
     ]
    },
    {
     "data": {
      "image/png": "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\n",
      "text/plain": [
       "<Figure size 432x288 with 1 Axes>"
      ]
     },
     "metadata": {
      "needs_background": "light"
     },
     "output_type": "display_data"
    },
    {
     "name": "stdout",
     "output_type": "stream",
     "text": [
      "Saving figure some_digit_plot\n"
     ]
    },
    {
     "data": {
      "image/png": "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\n",
      "text/plain": [
       "<Figure size 432x288 with 1 Axes>"
      ]
     },
     "metadata": {
      "needs_background": "light"
     },
     "output_type": "display_data"
    },
    {
     "name": "stdout",
     "output_type": "stream",
     "text": [
      "Saving figure some_digit_plot\n"
     ]
    },
    {
     "data": {
      "image/png": "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\n",
      "text/plain": [
       "<Figure size 432x288 with 1 Axes>"
      ]
     },
     "metadata": {
      "needs_background": "light"
     },
     "output_type": "display_data"
    },
    {
     "name": "stdout",
     "output_type": "stream",
     "text": [
      "Saving figure some_digit_plot\n"
     ]
    },
    {
     "data": {
      "image/png": "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\n",
      "text/plain": [
       "<Figure size 432x288 with 1 Axes>"
      ]
     },
     "metadata": {
      "needs_background": "light"
     },
     "output_type": "display_data"
    },
    {
     "name": "stdout",
     "output_type": "stream",
     "text": [
      "Saving figure some_digit_plot\n"
     ]
    },
    {
     "data": {
      "image/png": "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\n",
      "text/plain": [
       "<Figure size 432x288 with 1 Axes>"
      ]
     },
     "metadata": {
      "needs_background": "light"
     },
     "output_type": "display_data"
    }
   ],
   "source": [
    "for i in range(12):\n",
    "    some_digit = X[i]\n",
    "    some_digit_image = some_digit.reshape(28, 28)\n",
    "    plt.imshow(some_digit_image, cmap = mpl.cm.binary,\n",
    "           interpolation=\"nearest\")\n",
    "    plt.axis(\"off\")\n",
    "\n",
    "    save_fig(\"some_digit_plot\")\n",
    "    plt.show()\n",
    "    y[i]"
   ]
  },
  {
   "cell_type": "code",
<<<<<<< HEAD
   "execution_count": 17,
=======
   "execution_count": 14,
>>>>>>> 907a4840d9eccd5f41b7094b687cd0f7da416fc0
   "metadata": {},
   "outputs": [],
   "source": [
    "def plot_digit(data):\n",
    "    image = data.reshape(28, 28)\n",
    "    plt.imshow(image, cmap = mpl.cm.binary,\n",
    "               interpolation=\"nearest\")\n",
    "    plt.axis(\"off\")"
   ]
  },
  {
   "cell_type": "code",
<<<<<<< HEAD
   "execution_count": 18,
=======
   "execution_count": 15,
>>>>>>> 907a4840d9eccd5f41b7094b687cd0f7da416fc0
   "metadata": {},
   "outputs": [],
   "source": [
    "# EXTRA\n",
    "def plot_digits(instances, images_per_row=10, **options):\n",
    "    size = 28\n",
    "    images_per_row = min(len(instances), images_per_row)\n",
    "    images = [instance.reshape(size,size) for instance in instances]\n",
    "    n_rows = (len(instances) - 1) // images_per_row + 1\n",
    "    row_images = []\n",
    "    n_empty = n_rows * images_per_row - len(instances)\n",
    "    images.append(np.zeros((size, size * n_empty)))\n",
    "    for row in range(n_rows):\n",
    "        rimages = images[row * images_per_row : (row + 1) * images_per_row]\n",
    "        row_images.append(np.concatenate(rimages, axis=1))\n",
    "    image = np.concatenate(row_images, axis=0)\n",
    "    plt.imshow(image, cmap = mpl.cm.binary, **options)\n",
    "    plt.axis(\"off\")"
   ]
  },
  {
   "cell_type": "code",
<<<<<<< HEAD
   "execution_count": 19,
=======
   "execution_count": 16,
>>>>>>> 907a4840d9eccd5f41b7094b687cd0f7da416fc0
   "metadata": {},
   "outputs": [
    {
     "name": "stdout",
     "output_type": "stream",
     "text": [
      "Saving figure more_digits_plot\n"
     ]
    },
    {
     "data": {
      "image/png": "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\n",
      "text/plain": [
       "<Figure size 648x648 with 1 Axes>"
      ]
     },
     "metadata": {
      "needs_background": "light"
     },
     "output_type": "display_data"
    }
   ],
   "source": [
    "plt.figure(figsize=(9,9))\n",
    "example_images = np.r_[X[:12000:600], X[13000:30600:600], X[30600:60000:590]]\n",
    "plot_digits(example_images, images_per_row=10)\n",
    "save_fig(\"more_digits_plot\")\n",
    "plt.show()"
   ]
  },
  {
   "cell_type": "code",
<<<<<<< HEAD
   "execution_count": 20,
=======
   "execution_count": 17,
>>>>>>> 907a4840d9eccd5f41b7094b687cd0f7da416fc0
   "metadata": {},
   "outputs": [
    {
     "data": {
      "text/plain": [
       "5"
      ]
     },
<<<<<<< HEAD
     "execution_count": 20,
=======
     "execution_count": 17,
>>>>>>> 907a4840d9eccd5f41b7094b687cd0f7da416fc0
     "metadata": {},
     "output_type": "execute_result"
    }
   ],
   "source": [
    "y[36000]"
   ]
  },
  {
   "cell_type": "code",
<<<<<<< HEAD
   "execution_count": 21,
=======
   "execution_count": 18,
>>>>>>> 907a4840d9eccd5f41b7094b687cd0f7da416fc0
   "metadata": {},
   "outputs": [
    {
     "data": {
      "text/plain": [
       "array([0, 0, 0, 0, 0, 0, 0, 0, 0, 0], dtype=int8)"
      ]
     },
<<<<<<< HEAD
     "execution_count": 21,
=======
     "execution_count": 18,
>>>>>>> 907a4840d9eccd5f41b7094b687cd0f7da416fc0
     "metadata": {},
     "output_type": "execute_result"
    }
   ],
   "source": [
    "y[:10]"
   ]
  },
  {
   "cell_type": "code",
<<<<<<< HEAD
   "execution_count": 22,
=======
   "execution_count": 19,
>>>>>>> 907a4840d9eccd5f41b7094b687cd0f7da416fc0
   "metadata": {},
   "outputs": [],
   "source": [
    "# make our training/test splits\n",
    "X_train, X_test, y_train, y_test = X[:60000], X[60000:], y[:60000], y[60000:]"
   ]
  },
  {
   "cell_type": "code",
<<<<<<< HEAD
   "execution_count": 23,
=======
   "execution_count": 20,
>>>>>>> 907a4840d9eccd5f41b7094b687cd0f7da416fc0
   "metadata": {},
   "outputs": [
    {
     "data": {
      "text/plain": [
       "1    6742\n",
       "7    6265\n",
       "3    6131\n",
       "2    5958\n",
       "9    5949\n",
       "0    5923\n",
       "6    5918\n",
       "8    5851\n",
       "4    5842\n",
       "5    5421\n",
       "dtype: int64"
      ]
     },
<<<<<<< HEAD
     "execution_count": 23,
=======
     "execution_count": 20,
>>>>>>> 907a4840d9eccd5f41b7094b687cd0f7da416fc0
     "metadata": {},
     "output_type": "execute_result"
    }
   ],
   "source": [
    "pd.Series(y_train).value_counts()"
   ]
  },
  {
   "cell_type": "code",
<<<<<<< HEAD
   "execution_count": 24,
=======
   "execution_count": 21,
>>>>>>> 907a4840d9eccd5f41b7094b687cd0f7da416fc0
   "metadata": {},
   "outputs": [
    {
     "data": {
      "text/plain": [
       "array([0, 0, 0, 1, 1, 1, 1, 1, 1, 1], dtype=int8)"
      ]
     },
<<<<<<< HEAD
     "execution_count": 24,
=======
     "execution_count": 21,
>>>>>>> 907a4840d9eccd5f41b7094b687cd0f7da416fc0
     "metadata": {},
     "output_type": "execute_result"
    }
   ],
   "source": [
    "y_train[5920:5930]"
   ]
  },
  {
   "cell_type": "code",
<<<<<<< HEAD
   "execution_count": 25,
=======
   "execution_count": 22,
>>>>>>> 907a4840d9eccd5f41b7094b687cd0f7da416fc0
   "metadata": {},
   "outputs": [
    {
     "data": {
      "text/plain": [
       "1    1135\n",
       "2    1032\n",
       "7    1028\n",
       "3    1010\n",
       "9    1009\n",
       "4     982\n",
       "0     980\n",
       "8     974\n",
       "6     958\n",
       "5     892\n",
       "dtype: int64"
      ]
     },
<<<<<<< HEAD
     "execution_count": 25,
=======
     "execution_count": 22,
>>>>>>> 907a4840d9eccd5f41b7094b687cd0f7da416fc0
     "metadata": {},
     "output_type": "execute_result"
    }
   ],
   "source": [
    "pd.Series(y_test).value_counts()"
   ]
  },
  {
   "cell_type": "code",
<<<<<<< HEAD
   "execution_count": null,
   "metadata": {},
   "outputs": [],
=======
   "execution_count": 23,
   "metadata": {},
   "outputs": [
    {
     "data": {
      "text/plain": [
       "array([0, 0, 0, 0, 0, 1, 1, 1, 1, 1], dtype=int8)"
      ]
     },
     "execution_count": 23,
     "metadata": {},
     "output_type": "execute_result"
    }
   ],
>>>>>>> 907a4840d9eccd5f41b7094b687cd0f7da416fc0
   "source": [
    "y_test[975:985]"
   ]
  },
  {
   "cell_type": "markdown",
   "metadata": {},
   "source": [
    "# Binary classifier"
   ]
  },
  {
   "cell_type": "code",
<<<<<<< HEAD
   "execution_count": null,
=======
   "execution_count": 24,
>>>>>>> 907a4840d9eccd5f41b7094b687cd0f7da416fc0
   "metadata": {},
   "outputs": [],
   "source": [
    "y_train_5 = (y_train == 5)\n",
    "y_test_5 = (y_test == 5)"
   ]
  },
  {
   "cell_type": "code",
<<<<<<< HEAD
   "execution_count": null,
   "metadata": {},
   "outputs": [],
=======
   "execution_count": 25,
   "metadata": {},
   "outputs": [
    {
     "data": {
      "text/plain": [
       "array([False, False, False, False, False, False, False, False, False,\n",
       "       False])"
      ]
     },
     "execution_count": 25,
     "metadata": {},
     "output_type": "execute_result"
    }
   ],
>>>>>>> 907a4840d9eccd5f41b7094b687cd0f7da416fc0
   "source": [
    "y_test_5[:10]"
   ]
  },
  {
   "cell_type": "markdown",
   "metadata": {},
   "source": [
    "A good place to start is with a Stochastic Gradient Descent (SGD) classifier, using Scikit-Learn’s SGDClassifier class. This classifier has the advantage of being capable of handling very large datasets efficiently. This is in part because SGD deals with training instances independently, one at a time."
   ]
  },
  {
   "cell_type": "markdown",
   "metadata": {},
   "source": [
    "**Note**: a few hyperparameters will have a different default value in future versions of Scikit-Learn, so a warning is issued if you do not set them explicitly. This is why we set `max_iter=5` and `tol=-np.infty`, to get the same results as in the book, while avoiding the warnings."
   ]
  },
  {
   "cell_type": "code",
<<<<<<< HEAD
   "execution_count": null,
   "metadata": {},
   "outputs": [],
=======
   "execution_count": 26,
   "metadata": {},
   "outputs": [
    {
     "data": {
      "text/plain": [
       "SGDClassifier(alpha=0.0001, average=False, class_weight=None,\n",
       "       early_stopping=False, epsilon=0.1, eta0=0.0, fit_intercept=True,\n",
       "       l1_ratio=0.15, learning_rate='optimal', loss='hinge', max_iter=5,\n",
       "       n_iter=None, n_iter_no_change=5, n_jobs=None, penalty='l2',\n",
       "       power_t=0.5, random_state=42, shuffle=True, tol=-inf,\n",
       "       validation_fraction=0.1, verbose=0, warm_start=False)"
      ]
     },
     "execution_count": 26,
     "metadata": {},
     "output_type": "execute_result"
    }
   ],
>>>>>>> 907a4840d9eccd5f41b7094b687cd0f7da416fc0
   "source": [
    "from sklearn.linear_model import SGDClassifier\n",
    "\n",
    "sgd_clf = SGDClassifier(max_iter=5, tol=-np.infty, random_state=42)\n",
    "sgd_clf.fit(X_train, y_train_5)"
   ]
  },
  {
   "cell_type": "code",
<<<<<<< HEAD
   "execution_count": null,
   "metadata": {},
   "outputs": [],
=======
   "execution_count": 27,
   "metadata": {},
   "outputs": [
    {
     "data": {
      "text/plain": [
       "(-0.5, 27.5, 27.5, -0.5)"
      ]
     },
     "execution_count": 27,
     "metadata": {},
     "output_type": "execute_result"
    },
    {
     "data": {
      "image/png": "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\n",
      "text/plain": [
       "<Figure size 432x288 with 1 Axes>"
      ]
     },
     "metadata": {
      "needs_background": "light"
     },
     "output_type": "display_data"
    }
   ],
>>>>>>> 907a4840d9eccd5f41b7094b687cd0f7da416fc0
   "source": [
    "some_digit_image = some_digit.reshape(28, 28)\n",
    "plt.imshow(some_digit_image, cmap = mpl.cm.binary,\n",
    "           interpolation=\"nearest\")\n",
    "plt.axis(\"off\")"
   ]
  },
  {
   "cell_type": "code",
<<<<<<< HEAD
   "execution_count": null,
   "metadata": {},
   "outputs": [],
=======
   "execution_count": 28,
   "metadata": {},
   "outputs": [
    {
     "data": {
      "text/plain": [
       "array([False])"
      ]
     },
     "execution_count": 28,
     "metadata": {},
     "output_type": "execute_result"
    }
   ],
>>>>>>> 907a4840d9eccd5f41b7094b687cd0f7da416fc0
   "source": [
    "sgd_clf.predict([some_digit])"
   ]
  },
  {
   "cell_type": "code",
<<<<<<< HEAD
   "execution_count": null,
   "metadata": {},
   "outputs": [],
=======
   "execution_count": 29,
   "metadata": {},
   "outputs": [
    {
     "data": {
      "text/plain": [
       "(-0.5, 27.5, 27.5, -0.5)"
      ]
     },
     "execution_count": 29,
     "metadata": {},
     "output_type": "execute_result"
    },
    {
     "data": {
      "image/png": "iVBORw0KGgoAAAANSUhEUgAAAP0AAAD8CAYAAAC8aaJZAAAABHNCSVQICAgIfAhkiAAAAAlwSFlzAAALEgAACxIB0t1+/AAAADl0RVh0U29mdHdhcmUAbWF0cGxvdGxpYiB2ZXJzaW9uIDMuMC4yLCBodHRwOi8vbWF0cGxvdGxpYi5vcmcvOIA7rQAABQRJREFUeJzt3dFtGksYgNHlKmUkqcPuA0wdSdqI4zpwCjF1QCHcBpxZBQzr+Dvn0SO8ayWf5uHXDKvT6TQBHf8t/QLAbYkeYkQPMaKHGNFDjOgh5tNCzzUnhOtbvfZDOz3EiB5iRA8xoocY0UOM6CFG9BAjeogRPcSIHmJEDzGihxjRQ4zoIUb0ECN6iBE9xIgeYkQPMaKHGNFDjOghRvQQI3qIET3EiB5iRA8xoocY0UOM6CFmqa+q5gpeXl7+uPb09HTVZ+/3++H63d3d2b97vV4P1x8eHs7+3UV2eogRPcSIHmJEDzGihxjRQ4zoIWZ1Op2WeO4iD/3onp+f/7i23W5v+Ca3dTgchutfvny50Zu8O6vXfminhxjRQ4zoIUb0ECN6iBE9xIgeYpynZ5qmadrtdsP1+/v74fols/Dj8ThcH90TwN+z00OM6CFG9BAjeogRPcSIHmKM7CI2m81wfclrpOfGfeGjsVdhp4cY0UOM6CFG9BAjeogRPcSIHmJEDzGihxjRQ4zoIUb0ECN6iBE9xIgeYpyn/0BG585///59wzfhPbPTQ4zoIUb0ECN6iBE9xIgeYkQPMavT6bTEcxd5aNlqtRquPz4+Dtf3+/1Fz//27dsf1+a+BpuzvfqPbqeHGNFDjOghRvQQI3qIET3EiB5izOkj5mbhl87h54zO+v/8+XP42YeHh7d+nQpzekD0kCN6iBE9xIgeYkQPMUZ2EV+/fh2u393dDddHR2OnaZo+f/48XB9dwf3jx4/hZw+Hw3B9NA6MM7IDRA85oocY0UOM6CFG9BAjeogxp4+YuwJ7t9sN1695vHXudx+Px+H6y8vLW77OR2JOD4geckQPMaKHGNFDjOghRvQQ82npF+DtPD8/L/0KZ1mv18P17XZ7ozdpsNNDjOghRvQQI3qIET3EiB5iRA8x5vRM0zT/VdbXdOm99XPn6Zf8294jOz3EiB5iRA8xoocY0UOM6CFG9BDj3vuIubP217zX/lJzd/Yv9H/4X+Dee0D0kCN6iBE9xIgeYkQPMUZ2vHtzI7vD4TBcv/To7j/MyA4QPeSIHmJEDzGihxjRQ4zoIcYV2Cxu7tjvZrMZrofn8Gex00OM6CFG9BAjeogRPcSIHmJEDzHm9Df069ev4fp+vx+uz82z37PR10lvt9vhZx8fH9/6ddLs9BAjeogRPcSIHmJEDzGihxjRQ4w5/Q3NzeGPx+ON3uT2np6ezv7s/f39G74JdnqIET3EiB5iRA8xoocY0UOMkd0Nrdfr4frcEdO50dXo6O2l10SPjsZO0zR9//59uD4aV+52u+Fnjezelp0eYkQPMaKHGNFDjOghRvQQI3qIWZ1OpyWeu8hD37u5Wfclx1OXNrrGeu7v5myr135op4cY0UOM6CFG9BAjeogRPcSIHmLM6f8hl5xpn7t+e85msxmuz32d9KXn+TmLOT0gesgRPcSIHmJEDzGihxjRQ4w5PXxc5vSA6CFH9BAjeogRPcSIHmJEDzGihxjRQ4zoIUb0ECN6iBE9xIgeYkQPMaKHGNFDjOghRvQQI3qIET3EiB5iRA8xoocY0UOM6CFG9BAjeogRPcSIHmI+LfTcV79CF7g+Oz3EiB5iRA8xoocY0UOM6CFG9BAjeogRPcSIHmJEDzGihxjRQ4zoIUb0ECN6iBE9xIgeYkQPMaKHGNFDjOghRvQQI3qIET3EiB5i/gdDhatBcwHZoAAAAABJRU5ErkJggg==\n",
      "text/plain": [
       "<Figure size 432x288 with 1 Axes>"
      ]
     },
     "metadata": {
      "needs_background": "light"
     },
     "output_type": "display_data"
    }
   ],
>>>>>>> 907a4840d9eccd5f41b7094b687cd0f7da416fc0
   "source": [
    "some_digit = X_train[33700]\n",
    "some_digit_image = some_digit.reshape(28, 28)\n",
    "plt.imshow(some_digit_image, cmap = mpl.cm.binary,\n",
    "           interpolation=\"nearest\")\n",
    "plt.axis(\"off\")"
   ]
  },
  {
   "cell_type": "code",
<<<<<<< HEAD
   "execution_count": null,
   "metadata": {},
   "outputs": [],
=======
   "execution_count": 30,
   "metadata": {},
   "outputs": [
    {
     "data": {
      "text/plain": [
       "array([ True])"
      ]
     },
     "execution_count": 30,
     "metadata": {},
     "output_type": "execute_result"
    }
   ],
>>>>>>> 907a4840d9eccd5f41b7094b687cd0f7da416fc0
   "source": [
    "sgd_clf.predict([some_digit])"
   ]
  },
  {
   "cell_type": "code",
<<<<<<< HEAD
   "execution_count": null,
   "metadata": {},
   "outputs": [],
=======
   "execution_count": 31,
   "metadata": {},
   "outputs": [
    {
     "data": {
      "text/plain": [
       "array([0.869  , 0.83725, 0.90535])"
      ]
     },
     "execution_count": 31,
     "metadata": {},
     "output_type": "execute_result"
    }
   ],
>>>>>>> 907a4840d9eccd5f41b7094b687cd0f7da416fc0
   "source": [
    "from sklearn.model_selection import cross_val_score\n",
    "cross_val_score(sgd_clf, X_train, y_train_5, cv=3, scoring=\"accuracy\")"
   ]
  },
  {
   "cell_type": "code",
<<<<<<< HEAD
   "execution_count": null,
=======
   "execution_count": 32,
>>>>>>> 907a4840d9eccd5f41b7094b687cd0f7da416fc0
   "metadata": {},
   "outputs": [],
   "source": [
    "# we can implement a stratified k-fold classifier ourselves\n",
    "from sklearn.model_selection import StratifiedKFold\n",
    "from sklearn.base import clone\n",
    "\n",
    "skfolds = StratifiedKFold(n_splits=3, random_state=42)\n",
    "\n",
    "for train_index, test_index in skfolds.split(X_train, y_train_5):\n",
    "    clone_clf = clone(sgd_clf)\n",
    "    X_train_folds = X_train[train_index]\n",
    "    y_train_folds = (y_train_5[train_index])\n",
    "    X_test_fold = X_train[test_index]\n",
    "    y_test_fold = (y_train_5[test_index])\n",
    "\n",
    "    clone_clf.fit(X_train_folds, y_train_folds)\n",
    "    y_pred = clone_clf.predict(X_test_fold)\n",
    "    n_correct = sum(y_pred == y_test_fold)\n",
    "    print(n_correct / len(y_pred))"
   ]
  },
  {
   "cell_type": "markdown",
   "metadata": {},
   "source": [
    "This demonstrates why accuracy is generally not the preferred performance measure for classifiers, especially when you are dealing with skewed datasets."
   ]
  },
  {
   "cell_type": "code",
<<<<<<< HEAD
   "execution_count": null,
   "metadata": {},
   "outputs": [],
=======
   "execution_count": 33,
   "metadata": {},
   "outputs": [
    {
     "data": {
      "text/plain": [
       "array([[False],\n",
       "       [False]])"
      ]
     },
     "execution_count": 33,
     "metadata": {},
     "output_type": "execute_result"
    }
   ],
>>>>>>> 907a4840d9eccd5f41b7094b687cd0f7da416fc0
   "source": [
    "np.zeros((2, 1), dtype=bool)"
   ]
  },
  {
   "cell_type": "code",
<<<<<<< HEAD
   "execution_count": null,
=======
   "execution_count": 34,
>>>>>>> 907a4840d9eccd5f41b7094b687cd0f7da416fc0
   "metadata": {},
   "outputs": [],
   "source": [
    "# build a classifier that predicts every image as not 5\n",
    "from sklearn.base import BaseEstimator\n",
    "class Never5Classifier(BaseEstimator):\n",
    "    def fit(self, X, y=None):\n",
    "        pass\n",
    "    def predict(self, X):\n",
    "        return np.zeros((len(X), 1), dtype=bool)"
   ]
  },
  {
   "cell_type": "code",
<<<<<<< HEAD
   "execution_count": null,
   "metadata": {},
   "outputs": [],
=======
   "execution_count": 35,
   "metadata": {},
   "outputs": [
    {
     "data": {
      "text/plain": [
       "array([1.     , 0.72895, 1.     ])"
      ]
     },
     "execution_count": 35,
     "metadata": {},
     "output_type": "execute_result"
    }
   ],
>>>>>>> 907a4840d9eccd5f41b7094b687cd0f7da416fc0
   "source": [
    "never_5_clf = Never5Classifier()\n",
    "cross_val_score(never_5_clf, X_train, y_train_5, cv=3, scoring=\"accuracy\")"
   ]
  },
  {
   "cell_type": "markdown",
   "metadata": {},
   "source": [
    "Just like the cross_val_score() function, cross_val_predict() performs K-fold cross-validation, but instead of \n",
    "returning the evaluation scores, it returns the predictions made on each test fold."
   ]
  },
  {
   "cell_type": "code",
<<<<<<< HEAD
   "execution_count": null,
=======
   "execution_count": 36,
>>>>>>> 907a4840d9eccd5f41b7094b687cd0f7da416fc0
   "metadata": {},
   "outputs": [],
   "source": [
    "from sklearn.model_selection import cross_val_predict\n",
    "\n",
    "y_train_pred = cross_val_predict(sgd_clf, X_train, y_train_5, cv=3)"
   ]
  },
  {
   "cell_type": "markdown",
   "metadata": {},
   "source": [
    "Each row in a confusion matrix represents an actual class, while each column represents a predicted class. "
   ]
  },
  {
   "cell_type": "code",
<<<<<<< HEAD
   "execution_count": null,
   "metadata": {},
   "outputs": [],
=======
   "execution_count": 37,
   "metadata": {},
   "outputs": [
    {
     "data": {
      "text/plain": [
       "array([[47700,  6879],\n",
       "       [  889,  4532]])"
      ]
     },
     "execution_count": 37,
     "metadata": {},
     "output_type": "execute_result"
    }
   ],
>>>>>>> 907a4840d9eccd5f41b7094b687cd0f7da416fc0
   "source": [
    "# True Netagive  |  False Positive\n",
    "# False Negative |  True Positive\n",
    "from sklearn.metrics import confusion_matrix\n",
    "\n",
    "confusion_matrix(y_train_5, y_train_pred)"
   ]
  },
  {
   "cell_type": "code",
<<<<<<< HEAD
   "execution_count": null,
=======
   "execution_count": 38,
>>>>>>> 907a4840d9eccd5f41b7094b687cd0f7da416fc0
   "metadata": {},
   "outputs": [],
   "source": [
    "y_train_perfect_predictions = y_train_5"
   ]
  },
  {
   "cell_type": "code",
<<<<<<< HEAD
   "execution_count": null,
   "metadata": {},
   "outputs": [],
=======
   "execution_count": 39,
   "metadata": {},
   "outputs": [
    {
     "data": {
      "text/plain": [
       "array([[54579,     0],\n",
       "       [    0,  5421]])"
      ]
     },
     "execution_count": 39,
     "metadata": {},
     "output_type": "execute_result"
    }
   ],
>>>>>>> 907a4840d9eccd5f41b7094b687cd0f7da416fc0
   "source": [
    "confusion_matrix(y_train_5, y_train_perfect_predictions)"
   ]
  },
  {
   "cell_type": "code",
<<<<<<< HEAD
   "execution_count": null,
   "metadata": {},
   "outputs": [],
=======
   "execution_count": 40,
   "metadata": {},
   "outputs": [
    {
     "data": {
      "text/plain": [
       "0.3971606344755061"
      ]
     },
     "execution_count": 40,
     "metadata": {},
     "output_type": "execute_result"
    }
   ],
>>>>>>> 907a4840d9eccd5f41b7094b687cd0f7da416fc0
   "source": [
    "from sklearn.metrics import precision_score, recall_score\n",
    "\n",
    "precision_score(y_train_5, y_train_pred)"
   ]
  },
  {
   "cell_type": "markdown",
   "metadata": {},
   "source": [
    "$$precision = \\frac{TP}{(TP+FP)}$$"
   ]
  },
  {
   "cell_type": "code",
<<<<<<< HEAD
   "execution_count": null,
   "metadata": {},
   "outputs": [],
=======
   "execution_count": 41,
   "metadata": {},
   "outputs": [
    {
     "data": {
      "text/plain": [
       "0.3971606344755061"
      ]
     },
     "execution_count": 41,
     "metadata": {},
     "output_type": "execute_result"
    }
   ],
>>>>>>> 907a4840d9eccd5f41b7094b687cd0f7da416fc0
   "source": [
    "4532 / (4532 + 6879)"
   ]
  },
  {
   "cell_type": "markdown",
   "metadata": {},
   "source": [
    "$$recall = \\frac{TP}{(TP+FN)}$$"
   ]
  },
  {
   "cell_type": "code",
<<<<<<< HEAD
   "execution_count": null,
   "metadata": {},
   "outputs": [],
=======
   "execution_count": 42,
   "metadata": {},
   "outputs": [
    {
     "data": {
      "text/plain": [
       "0.8360081165836561"
      ]
     },
     "execution_count": 42,
     "metadata": {},
     "output_type": "execute_result"
    }
   ],
>>>>>>> 907a4840d9eccd5f41b7094b687cd0f7da416fc0
   "source": [
    "recall_score(y_train_5, y_train_pred)"
   ]
  },
  {
   "cell_type": "code",
<<<<<<< HEAD
   "execution_count": null,
   "metadata": {},
   "outputs": [],
=======
   "execution_count": 43,
   "metadata": {},
   "outputs": [
    {
     "data": {
      "text/plain": [
       "0.8360081165836561"
      ]
     },
     "execution_count": 43,
     "metadata": {},
     "output_type": "execute_result"
    }
   ],
>>>>>>> 907a4840d9eccd5f41b7094b687cd0f7da416fc0
   "source": [
    "4532 / (4532 + 889)"
   ]
  },
  {
   "cell_type": "markdown",
   "metadata": {},
   "source": [
    "![Precision & Recall](PR.png)"
   ]
  },
  {
   "cell_type": "markdown",
   "metadata": {},
   "source": [
    "$$F1 = \\frac{2}{\\frac{1}{precision}+\\frac{1}{recall}}$$"
   ]
  },
  {
   "cell_type": "code",
<<<<<<< HEAD
   "execution_count": null,
   "metadata": {},
   "outputs": [],
=======
   "execution_count": 44,
   "metadata": {},
   "outputs": [
    {
     "data": {
      "text/plain": [
       "0.5384980988593155"
      ]
     },
     "execution_count": 44,
     "metadata": {},
     "output_type": "execute_result"
    }
   ],
>>>>>>> 907a4840d9eccd5f41b7094b687cd0f7da416fc0
   "source": [
    "from sklearn.metrics import f1_score\n",
    "f1_score(y_train_5, y_train_pred)"
   ]
  },
  {
<<<<<<< HEAD
   "cell_type": "code",
   "execution_count": null,
   "metadata": {},
   "outputs": [],
=======
   "cell_type": "markdown",
   "metadata": {},
>>>>>>> 907a4840d9eccd5f41b7094b687cd0f7da416fc0
   "source": [
    "## End of Session ##"
   ]
  },
  {
   "cell_type": "markdown",
   "metadata": {},
   "source": [
    "To understand the Precision/Recall tradeoff, let’s look at how the SGDClassifier makes its classification decisions. For each instance, it computes a score based on a decision function, and if that score is greater than a threshold, it assigns the instance to the positive class, or else it assigns it to the negative class."
   ]
  },
  {
   "cell_type": "markdown",
   "metadata": {},
   "source": [
    "![Precision & Recall](PRscore.png)"
   ]
  },
  {
   "cell_type": "code",
<<<<<<< HEAD
   "execution_count": null,
   "metadata": {},
   "outputs": [],
=======
   "execution_count": 45,
   "metadata": {},
   "outputs": [
    {
     "data": {
      "text/plain": [
       "array([66313.57581278])"
      ]
     },
     "execution_count": 45,
     "metadata": {},
     "output_type": "execute_result"
    }
   ],
>>>>>>> 907a4840d9eccd5f41b7094b687cd0f7da416fc0
   "source": [
    "y_scores = sgd_clf.decision_function([some_digit])\n",
    "y_scores"
   ]
  },
  {
   "cell_type": "code",
<<<<<<< HEAD
   "execution_count": null,
=======
   "execution_count": 46,
>>>>>>> 907a4840d9eccd5f41b7094b687cd0f7da416fc0
   "metadata": {},
   "outputs": [],
   "source": [
    "threshold = 0\n",
    "y_some_digit_pred = (y_scores > threshold)"
   ]
  },
  {
   "cell_type": "code",
<<<<<<< HEAD
   "execution_count": null,
   "metadata": {},
   "outputs": [],
=======
   "execution_count": 47,
   "metadata": {},
   "outputs": [
    {
     "data": {
      "text/plain": [
       "array([ True])"
      ]
     },
     "execution_count": 47,
     "metadata": {},
     "output_type": "execute_result"
    }
   ],
>>>>>>> 907a4840d9eccd5f41b7094b687cd0f7da416fc0
   "source": [
    "y_some_digit_pred"
   ]
  },
  {
   "cell_type": "code",
<<<<<<< HEAD
   "execution_count": null,
   "metadata": {},
   "outputs": [],
=======
   "execution_count": 48,
   "metadata": {},
   "outputs": [
    {
     "data": {
      "text/plain": [
       "array([False])"
      ]
     },
     "execution_count": 48,
     "metadata": {},
     "output_type": "execute_result"
    }
   ],
>>>>>>> 907a4840d9eccd5f41b7094b687cd0f7da416fc0
   "source": [
    "threshold = 200000\n",
    "y_some_digit_pred = (y_scores > threshold)\n",
    "y_some_digit_pred"
   ]
  },
  {
   "cell_type": "code",
<<<<<<< HEAD
   "execution_count": null,
=======
   "execution_count": 49,
>>>>>>> 907a4840d9eccd5f41b7094b687cd0f7da416fc0
   "metadata": {},
   "outputs": [],
   "source": [
    "y_scores = cross_val_predict(sgd_clf, X_train, y_train_5, cv=3,\n",
    "                             method=\"decision_function\")"
   ]
  },
  {
   "cell_type": "code",
   "execution_count": 52,
   "metadata": {},
   "outputs": [],
   "source": [
    "from sklearn.metrics import precision_recall_curve\n",
    "\n",
    "precisions, recalls, thresholds = precision_recall_curve(y_train_5, y_scores)"
   ]
  },
  {
   "cell_type": "code",
<<<<<<< HEAD
   "execution_count": null,
   "metadata": {},
   "outputs": [],
=======
   "execution_count": 55,
   "metadata": {},
   "outputs": [
    {
     "data": {
      "text/plain": [
       "59868"
      ]
     },
     "execution_count": 55,
     "metadata": {},
     "output_type": "execute_result"
    }
   ],
>>>>>>> 907a4840d9eccd5f41b7094b687cd0f7da416fc0
   "source": [
    "len(thresholds)"
   ]
  },
  {
   "cell_type": "code",
<<<<<<< HEAD
   "execution_count": null,
   "metadata": {},
   "outputs": [],
   "source": [
    "# hack to work around issue #9589 in Scikit-Learn 0.19.0\n",
    "if y_scores.ndim == 2:\n",
    "    y_scores = y_scores[:, 1]"
   ]
  },
  {
   "cell_type": "code",
   "execution_count": null,
   "metadata": {},
   "outputs": [],
   "source": [
    "from sklearn.metrics import precision_recall_curve\n",
    "\n",
    "precisions, recalls, thresholds = precision_recall_curve(y_train_5, y_scores)"
   ]
  },
  {
   "cell_type": "code",
   "execution_count": null,
=======
   "execution_count": 56,
>>>>>>> 907a4840d9eccd5f41b7094b687cd0f7da416fc0
   "metadata": {},
   "outputs": [],
   "source": [
    "def plot_precision_recall_vs_threshold(precisions, recalls, thresholds):\n",
    "    plt.plot(thresholds, precisions[:-1], \"b--\", label=\"Precision\", linewidth=2)\n",
    "    plt.plot(thresholds, recalls[:-1], \"g-\", label=\"Recall\", linewidth=2)\n",
    "    plt.xlabel(\"Threshold\", fontsize=16)\n",
    "    plt.legend(loc=\"upper left\", fontsize=16)\n",
    "    plt.ylim([0, 1])\n",
    "\n",
    "plt.figure(figsize=(8, 4))\n",
    "plot_precision_recall_vs_threshold(precisions, recalls, thresholds)\n",
    "plt.xlim([-700000, 700000])\n",
    "save_fig(\"precision_recall_vs_threshold_plot\")\n",
    "plt.show()"
   ]
  },
  {
   "cell_type": "code",
<<<<<<< HEAD
   "execution_count": null,
   "metadata": {},
   "outputs": [],
   "source": [
    "(y_train_pred == (y_scores > 0)).all()"
   ]
  },
  {
   "cell_type": "code",
   "execution_count": null,
   "metadata": {},
   "outputs": [],
   "source": [
    "y_train_pred_90 = (y_scores > 70000)"
=======
   "execution_count": 57,
   "metadata": {
    "scrolled": false
   },
   "outputs": [
    {
     "name": "stdout",
     "output_type": "stream",
     "text": [
      "Saving figure precision_vs_recall_plot\n"
     ]
    },
    {
     "data": {
      "image/png": "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\n",
      "text/plain": [
       "<Figure size 576x432 with 1 Axes>"
      ]
     },
     "metadata": {
      "needs_background": "light"
     },
     "output_type": "display_data"
    }
   ],
   "source": [
    "def plot_precision_vs_recall(precisions, recalls):\n",
    "    plt.plot(recalls, precisions, \"b-\", linewidth=2)\n",
    "    plt.xlabel(\"Recall\", fontsize=16)\n",
    "    plt.ylabel(\"Precision\", fontsize=16)\n",
    "    plt.axis([0, 1, 0, 1])\n",
    "\n",
    "plt.figure(figsize=(8, 6))\n",
    "plot_precision_vs_recall(precisions, recalls)\n",
    "save_fig(\"precision_vs_recall_plot\")\n",
    "plt.show()"
>>>>>>> 907a4840d9eccd5f41b7094b687cd0f7da416fc0
   ]
  },
  {
   "cell_type": "code",
<<<<<<< HEAD
   "execution_count": null,
   "metadata": {},
   "outputs": [],
=======
   "execution_count": 64,
   "metadata": {},
   "outputs": [
    {
     "data": {
      "text/plain": [
       "array([0., 0., 0., 0., 0., 0., 0., 0., 0., 1.])"
      ]
     },
     "execution_count": 64,
     "metadata": {},
     "output_type": "execute_result"
    }
   ],
>>>>>>> 907a4840d9eccd5f41b7094b687cd0f7da416fc0
   "source": [
    "precisions[-10:]"
   ]
  },
  {
   "cell_type": "code",
<<<<<<< HEAD
   "execution_count": null,
   "metadata": {},
   "outputs": [],
   "source": [
    "recall_score(y_train_5, y_train_pred_90)"
   ]
  },
  {
   "cell_type": "code",
   "execution_count": null,
   "metadata": {},
   "outputs": [],
=======
   "execution_count": 65,
   "metadata": {},
   "outputs": [
    {
     "data": {
      "text/plain": [
       "[<matplotlib.lines.Line2D at 0x1a1cecf080>]"
      ]
     },
     "execution_count": 65,
     "metadata": {},
     "output_type": "execute_result"
    },
    {
     "data": {
      "image/png": "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\n",
      "text/plain": [
       "<Figure size 432x288 with 1 Axes>"
      ]
     },
     "metadata": {
      "needs_background": "light"
     },
     "output_type": "display_data"
    }
   ],
>>>>>>> 907a4840d9eccd5f41b7094b687cd0f7da416fc0
   "source": [
    "plt.plot(precisions[:-1])"
   ]
  },
  {
   "cell_type": "markdown",
   "metadata": {},
   "source": [
    "# ROC curves"
   ]
  },
  {
   "cell_type": "markdown",
   "metadata": {},
   "source": [
    "The **receiver operating characteristic (ROC)** curve is another common tool used with binary classifiers. It is very similar to the precision/recall curve, but instead of plotting precision versus recall, the ROC curve plots the true positive rate (another name for recall) against the false positive rate. The FPR is the ratio of negative instances that are incorrectly classified as positive. It is equal to one minus the true negative rate, which is the ratio of negative instances that are correctly classified as negative. The TNR is also called **specificity**. Hence the ROC curve plots sensitivity (recall) versus 1 – specificity."
   ]
  },
  {
   "cell_type": "code",
<<<<<<< HEAD
   "execution_count": null,
=======
   "execution_count": 68,
>>>>>>> 907a4840d9eccd5f41b7094b687cd0f7da416fc0
   "metadata": {},
   "outputs": [],
   "source": [
    "from sklearn.metrics import roc_curve\n",
    "\n",
    "fpr, tpr, thresholds = roc_curve(y_train_5, y_scores)"
   ]
  },
  {
   "cell_type": "code",
<<<<<<< HEAD
   "execution_count": null,
=======
   "execution_count": 71,
   "metadata": {},
   "outputs": [
    {
     "data": {
      "text/plain": [
       "array([0.00000000e+00, 1.83220653e-05, 2.01542718e-04, 2.01542718e-04,\n",
       "       5.86306088e-04, 5.86306088e-04, 6.96238480e-04, 6.96238480e-04,\n",
       "       1.08100185e-03, 1.08100185e-03])"
      ]
     },
     "execution_count": 71,
     "metadata": {},
     "output_type": "execute_result"
    }
   ],
   "source": [
    "fpr[:10]"
   ]
  },
  {
   "cell_type": "code",
   "execution_count": 72,
   "metadata": {},
   "outputs": [
    {
     "data": {
      "text/plain": [
       "array([0.        , 0.        , 0.        , 0.00018447, 0.00018447,\n",
       "       0.00036894, 0.00036894, 0.0005534 , 0.0005534 , 0.00073787])"
      ]
     },
     "execution_count": 72,
     "metadata": {},
     "output_type": "execute_result"
    }
   ],
   "source": [
    "tpr[:10]"
   ]
  },
  {
   "cell_type": "code",
   "execution_count": 73,
>>>>>>> 907a4840d9eccd5f41b7094b687cd0f7da416fc0
   "metadata": {},
   "outputs": [],
   "source": [
    "def plot_roc_curve(fpr, tpr, label=None):\n",
    "    plt.plot(fpr, tpr, linewidth=2, label=label)\n",
    "    plt.plot([0, 1], [0, 1], 'k--')\n",
    "    plt.axis([0, 1, 0, 1])\n",
    "    plt.xlabel('False Positive Rate', fontsize=16)\n",
    "    plt.ylabel('True Positive Rate', fontsize=16)\n",
    "\n",
    "plt.figure(figsize=(8, 6))\n",
    "plot_roc_curve(fpr, tpr)\n",
    "save_fig(\"roc_curve_plot\")\n",
    "plt.show()"
   ]
  },
  {
   "cell_type": "code",
<<<<<<< HEAD
   "execution_count": null,
   "metadata": {},
   "outputs": [],
=======
   "execution_count": 74,
   "metadata": {},
   "outputs": [
    {
     "data": {
      "text/plain": [
       "0.917402257366992"
      ]
     },
     "execution_count": 74,
     "metadata": {},
     "output_type": "execute_result"
    }
   ],
>>>>>>> 907a4840d9eccd5f41b7094b687cd0f7da416fc0
   "source": [
    "from sklearn.metrics import roc_auc_score\n",
    "\n",
    "roc_auc_score(y_train_5, y_scores)"
   ]
  },
  {
   "cell_type": "markdown",
   "metadata": {},
   "source": [
    "Since the ROC curve is so similar to the precision/recall (or PR) curve, you may wonder how to decide which one to use. As a rule of thumb, you should prefer the PR curve whenever the positive class is rare or when you care more about the false positives than the false negatives, and the ROC curve otherwise. "
   ]
  },
  {
   "cell_type": "markdown",
   "metadata": {},
   "source": [
    "**Note**: we set `n_estimators=10` to avoid a warning about the fact that its default value will be set to 100 in Scikit-Learn 0.22."
   ]
  },
  {
   "cell_type": "code",
<<<<<<< HEAD
   "execution_count": null,
=======
   "execution_count": 75,
>>>>>>> 907a4840d9eccd5f41b7094b687cd0f7da416fc0
   "metadata": {},
   "outputs": [],
   "source": [
    "from sklearn.ensemble import RandomForestClassifier\n",
    "forest_clf = RandomForestClassifier(n_estimators=10, random_state=42)\n",
    "y_probas_forest = cross_val_predict(forest_clf, X_train, y_train_5, cv=3,\n",
    "                                    method=\"predict_proba\")"
   ]
  },
  {
   "cell_type": "code",
<<<<<<< HEAD
   "execution_count": null,
=======
   "execution_count": 76,
   "metadata": {},
   "outputs": [
    {
     "data": {
      "text/plain": [
       "array([[0.8, 0.2],\n",
       "       [0.7, 0.3],\n",
       "       [0.7, 0.3],\n",
       "       [1. , 0. ],\n",
       "       [0.2, 0.8],\n",
       "       [0.9, 0.1],\n",
       "       [0.8, 0.2],\n",
       "       [0.7, 0.3],\n",
       "       [0.6, 0.4],\n",
       "       [0.9, 0.1]])"
      ]
     },
     "execution_count": 76,
     "metadata": {},
     "output_type": "execute_result"
    }
   ],
   "source": [
    "# probability that the instance is not 5, or is a 5\n",
    "y_probas_forest[:10]"
   ]
  },
  {
   "cell_type": "code",
   "execution_count": 77,
>>>>>>> 907a4840d9eccd5f41b7094b687cd0f7da416fc0
   "metadata": {},
   "outputs": [],
   "source": [
    "y_scores_forest = y_probas_forest[:, 1] # score = proba of positive class\n",
    "fpr_forest, tpr_forest, thresholds_forest = roc_curve(y_train_5, y_scores_forest)"
   ]
  },
  {
   "cell_type": "code",
<<<<<<< HEAD
   "execution_count": null,
=======
   "execution_count": 78,
>>>>>>> 907a4840d9eccd5f41b7094b687cd0f7da416fc0
   "metadata": {},
   "outputs": [],
   "source": [
    "plt.figure(figsize=(8, 6))\n",
    "plt.plot(fpr, tpr, \"b:\", linewidth=2, label=\"SGD\")\n",
    "plot_roc_curve(fpr_forest, tpr_forest, \"Random Forest\")\n",
    "plt.legend(loc=\"lower right\", fontsize=16)\n",
    "save_fig(\"roc_curve_comparison_plot\")\n",
    "plt.show()"
   ]
  },
  {
   "cell_type": "code",
<<<<<<< HEAD
   "execution_count": null,
   "metadata": {},
   "outputs": [],
=======
   "execution_count": 79,
   "metadata": {},
   "outputs": [
    {
     "data": {
      "text/plain": [
       "0.9727987276449468"
      ]
     },
     "execution_count": 79,
     "metadata": {},
     "output_type": "execute_result"
    }
   ],
>>>>>>> 907a4840d9eccd5f41b7094b687cd0f7da416fc0
   "source": [
    "roc_auc_score(y_train_5, y_scores_forest)"
   ]
  },
  {
   "cell_type": "code",
<<<<<<< HEAD
   "execution_count": null,
   "metadata": {},
   "outputs": [],
=======
   "execution_count": 80,
   "metadata": {},
   "outputs": [
    {
     "data": {
      "text/plain": [
       "0.73638414437641"
      ]
     },
     "execution_count": 80,
     "metadata": {},
     "output_type": "execute_result"
    }
   ],
>>>>>>> 907a4840d9eccd5f41b7094b687cd0f7da416fc0
   "source": [
    "y_train_pred_forest = cross_val_predict(forest_clf, X_train, y_train_5, cv=3)\n",
    "precision_score(y_train_5, y_train_pred_forest)"
   ]
  },
  {
   "cell_type": "code",
<<<<<<< HEAD
   "execution_count": null,
   "metadata": {},
   "outputs": [],
=======
   "execution_count": 81,
   "metadata": {},
   "outputs": [
    {
     "data": {
      "text/plain": [
       "0.8430178933776056"
      ]
     },
     "execution_count": 81,
     "metadata": {},
     "output_type": "execute_result"
    }
   ],
>>>>>>> 907a4840d9eccd5f41b7094b687cd0f7da416fc0
   "source": [
    "recall_score(y_train_5, y_train_pred_forest)"
   ]
  },
  {
   "cell_type": "markdown",
   "metadata": {},
   "source": [
    "## End of Session ##"
   ]
  },
  {
   "cell_type": "markdown",
   "metadata": {},
   "source": [
    "# Multiclass classification"
   ]
  },
  {
   "cell_type": "code",
   "execution_count": null,
   "metadata": {},
   "outputs": [],
   "source": [
    "sgd_clf.fit(X_train, y_train)\n",
    "sgd_clf.predict([some_digit])"
   ]
  },
  {
   "cell_type": "code",
   "execution_count": null,
   "metadata": {},
   "outputs": [],
   "source": [
    "some_digit_scores = sgd_clf.decision_function([some_digit])\n",
    "some_digit_scores"
   ]
  },
  {
   "cell_type": "code",
   "execution_count": null,
   "metadata": {},
   "outputs": [],
   "source": [
    "np.argmax(some_digit_scores)"
   ]
  },
  {
   "cell_type": "code",
   "execution_count": null,
   "metadata": {},
   "outputs": [],
   "source": [
    "sgd_clf.classes_"
   ]
  },
  {
   "cell_type": "code",
   "execution_count": null,
   "metadata": {},
   "outputs": [],
   "source": [
    "sgd_clf.classes_[5]"
   ]
  },
  {
   "cell_type": "code",
   "execution_count": null,
   "metadata": {},
   "outputs": [],
   "source": [
    "from sklearn.multiclass import OneVsOneClassifier\n",
    "ovo_clf = OneVsOneClassifier(SGDClassifier(max_iter=5, tol=-np.infty, random_state=42))\n",
    "ovo_clf.fit(X_train, y_train)\n",
    "ovo_clf.predict([some_digit])"
   ]
  },
  {
   "cell_type": "code",
   "execution_count": null,
   "metadata": {},
   "outputs": [],
   "source": [
    "len(ovo_clf.estimators_)"
   ]
  },
  {
   "cell_type": "code",
   "execution_count": null,
   "metadata": {},
   "outputs": [],
   "source": [
    "forest_clf.fit(X_train, y_train)\n",
    "forest_clf.predict([some_digit])"
   ]
  },
  {
   "cell_type": "code",
   "execution_count": null,
   "metadata": {},
   "outputs": [],
   "source": [
    "forest_clf.predict_proba([some_digit])"
   ]
  },
  {
   "cell_type": "code",
   "execution_count": null,
   "metadata": {},
   "outputs": [],
   "source": [
    "cross_val_score(sgd_clf, X_train, y_train, cv=3, scoring=\"accuracy\")"
   ]
  },
  {
   "cell_type": "code",
   "execution_count": null,
   "metadata": {},
   "outputs": [],
   "source": [
    "from sklearn.preprocessing import StandardScaler\n",
    "scaler = StandardScaler()\n",
    "X_train_scaled = scaler.fit_transform(X_train.astype(np.float64))\n",
    "cross_val_score(sgd_clf, X_train_scaled, y_train, cv=3, scoring=\"accuracy\")"
   ]
  },
  {
   "cell_type": "code",
   "execution_count": null,
   "metadata": {},
   "outputs": [],
   "source": [
    "y_train_pred = cross_val_predict(sgd_clf, X_train_scaled, y_train, cv=3)\n",
    "conf_mx = confusion_matrix(y_train, y_train_pred)\n",
    "conf_mx"
   ]
  },
  {
   "cell_type": "code",
   "execution_count": null,
   "metadata": {},
   "outputs": [],
   "source": [
    "def plot_confusion_matrix(matrix):\n",
    "    \"\"\"If you prefer color and a colorbar\"\"\"\n",
    "    fig = plt.figure(figsize=(8,8))\n",
    "    ax = fig.add_subplot(111)\n",
    "    cax = ax.matshow(matrix)\n",
    "    fig.colorbar(cax)"
   ]
  },
  {
   "cell_type": "code",
   "execution_count": null,
   "metadata": {},
   "outputs": [],
   "source": [
    "plt.matshow(conf_mx, cmap=plt.cm.gray)\n",
    "save_fig(\"confusion_matrix_plot\", tight_layout=False)\n",
    "plt.show()"
   ]
  },
  {
   "cell_type": "code",
   "execution_count": null,
   "metadata": {},
   "outputs": [],
   "source": [
    "row_sums = conf_mx.sum(axis=1, keepdims=True)\n",
    "norm_conf_mx = conf_mx / row_sums"
   ]
  },
  {
   "cell_type": "code",
   "execution_count": null,
   "metadata": {},
   "outputs": [],
   "source": [
    "np.fill_diagonal(norm_conf_mx, 0)\n",
    "plt.matshow(norm_conf_mx, cmap=plt.cm.gray)\n",
    "save_fig(\"confusion_matrix_errors_plot\", tight_layout=False)\n",
    "plt.show()"
   ]
  },
  {
   "cell_type": "code",
   "execution_count": null,
   "metadata": {},
   "outputs": [],
   "source": [
    "cl_a, cl_b = 3, 5\n",
    "X_aa = X_train[(y_train == cl_a) & (y_train_pred == cl_a)]\n",
    "X_ab = X_train[(y_train == cl_a) & (y_train_pred == cl_b)]\n",
    "X_ba = X_train[(y_train == cl_b) & (y_train_pred == cl_a)]\n",
    "X_bb = X_train[(y_train == cl_b) & (y_train_pred == cl_b)]\n",
    "\n",
    "plt.figure(figsize=(8,8))\n",
    "plt.subplot(221); plot_digits(X_aa[:25], images_per_row=5)\n",
    "plt.subplot(222); plot_digits(X_ab[:25], images_per_row=5)\n",
    "plt.subplot(223); plot_digits(X_ba[:25], images_per_row=5)\n",
    "plt.subplot(224); plot_digits(X_bb[:25], images_per_row=5)\n",
    "save_fig(\"error_analysis_digits_plot\")\n",
    "plt.show()"
   ]
  },
  {
   "cell_type": "markdown",
   "metadata": {},
   "source": [
    "# Multilabel classification"
   ]
  },
  {
   "cell_type": "code",
   "execution_count": null,
   "metadata": {},
   "outputs": [],
   "source": [
    "from sklearn.neighbors import KNeighborsClassifier\n",
    "\n",
    "y_train_large = (y_train >= 7)\n",
    "y_train_odd = (y_train % 2 == 1)\n",
    "y_multilabel = np.c_[y_train_large, y_train_odd]\n",
    "\n",
    "knn_clf = KNeighborsClassifier()\n",
    "knn_clf.fit(X_train, y_multilabel)"
   ]
  },
  {
   "cell_type": "code",
   "execution_count": null,
   "metadata": {},
   "outputs": [],
   "source": [
    "knn_clf.predict([some_digit])"
   ]
  },
  {
   "cell_type": "markdown",
   "metadata": {},
   "source": [
    "**Warning**: the following cell may take a very long time (possibly hours depending on your hardware)."
   ]
  },
  {
   "cell_type": "code",
   "execution_count": null,
   "metadata": {},
   "outputs": [],
   "source": [
    "y_train_knn_pred = cross_val_predict(knn_clf, X_train, y_multilabel, cv=3, n_jobs=-1)\n",
    "f1_score(y_multilabel, y_train_knn_pred, average=\"macro\")"
   ]
  },
  {
   "cell_type": "markdown",
   "metadata": {},
   "source": [
    "# Multioutput classification"
   ]
  },
  {
   "cell_type": "code",
   "execution_count": null,
   "metadata": {},
   "outputs": [],
   "source": [
    "noise = np.random.randint(0, 100, (len(X_train), 784))\n",
    "X_train_mod = X_train + noise\n",
    "noise = np.random.randint(0, 100, (len(X_test), 784))\n",
    "X_test_mod = X_test + noise\n",
    "y_train_mod = X_train\n",
    "y_test_mod = X_test"
   ]
  },
  {
   "cell_type": "code",
   "execution_count": null,
   "metadata": {},
   "outputs": [],
   "source": [
    "some_index = 5500\n",
    "plt.subplot(121); plot_digit(X_test_mod[some_index])\n",
    "plt.subplot(122); plot_digit(y_test_mod[some_index])\n",
    "save_fig(\"noisy_digit_example_plot\")\n",
    "plt.show()"
   ]
  },
  {
   "cell_type": "code",
   "execution_count": null,
   "metadata": {},
   "outputs": [],
   "source": [
    "knn_clf.fit(X_train_mod, y_train_mod)\n",
    "clean_digit = knn_clf.predict([X_test_mod[some_index]])\n",
    "plot_digit(clean_digit)\n",
    "save_fig(\"cleaned_digit_example_plot\")"
   ]
  },
  {
   "cell_type": "markdown",
   "metadata": {},
   "source": [
    "# Extra material"
   ]
  },
  {
   "cell_type": "markdown",
   "metadata": {},
   "source": [
    "## Dummy (ie. random) classifier"
   ]
  },
  {
   "cell_type": "code",
   "execution_count": null,
   "metadata": {},
   "outputs": [],
   "source": [
    "from sklearn.dummy import DummyClassifier\n",
    "dmy_clf = DummyClassifier()\n",
    "y_probas_dmy = cross_val_predict(dmy_clf, X_train, y_train_5, cv=3, method=\"predict_proba\")\n",
    "y_scores_dmy = y_probas_dmy[:, 1]"
   ]
  },
  {
   "cell_type": "code",
   "execution_count": null,
   "metadata": {
    "scrolled": true
   },
   "outputs": [],
   "source": [
    "fprr, tprr, thresholdsr = roc_curve(y_train_5, y_scores_dmy)\n",
    "plot_roc_curve(fprr, tprr)"
   ]
  },
  {
   "cell_type": "markdown",
   "metadata": {},
   "source": [
    "## KNN classifier"
   ]
  },
  {
   "cell_type": "code",
   "execution_count": null,
   "metadata": {},
   "outputs": [],
   "source": [
    "from sklearn.neighbors import KNeighborsClassifier\n",
    "knn_clf = KNeighborsClassifier(n_jobs=-1, weights='distance', n_neighbors=4)\n",
    "knn_clf.fit(X_train, y_train)"
   ]
  },
  {
   "cell_type": "code",
   "execution_count": null,
   "metadata": {},
   "outputs": [],
   "source": [
    "y_knn_pred = knn_clf.predict(X_test)"
   ]
  },
  {
   "cell_type": "code",
   "execution_count": null,
   "metadata": {},
   "outputs": [],
   "source": [
    "from sklearn.metrics import accuracy_score\n",
    "accuracy_score(y_test, y_knn_pred)"
   ]
  },
  {
   "cell_type": "code",
   "execution_count": null,
   "metadata": {},
   "outputs": [],
   "source": [
    "from scipy.ndimage.interpolation import shift\n",
    "def shift_digit(digit_array, dx, dy, new=0):\n",
    "    return shift(digit_array.reshape(28, 28), [dy, dx], cval=new).reshape(784)\n",
    "\n",
    "plot_digit(shift_digit(some_digit, 5, 1, new=100))"
   ]
  },
  {
   "cell_type": "code",
   "execution_count": null,
   "metadata": {},
   "outputs": [],
   "source": [
    "X_train_expanded = [X_train]\n",
    "y_train_expanded = [y_train]\n",
    "for dx, dy in ((1, 0), (-1, 0), (0, 1), (0, -1)):\n",
    "    shifted_images = np.apply_along_axis(shift_digit, axis=1, arr=X_train, dx=dx, dy=dy)\n",
    "    X_train_expanded.append(shifted_images)\n",
    "    y_train_expanded.append(y_train)\n",
    "\n",
    "X_train_expanded = np.concatenate(X_train_expanded)\n",
    "y_train_expanded = np.concatenate(y_train_expanded)\n",
    "X_train_expanded.shape, y_train_expanded.shape"
   ]
  },
  {
   "cell_type": "code",
   "execution_count": null,
   "metadata": {},
   "outputs": [],
   "source": [
    "knn_clf.fit(X_train_expanded, y_train_expanded)"
   ]
  },
  {
   "cell_type": "code",
   "execution_count": null,
   "metadata": {},
   "outputs": [],
   "source": [
    "y_knn_expanded_pred = knn_clf.predict(X_test)"
   ]
  },
  {
   "cell_type": "code",
   "execution_count": null,
   "metadata": {},
   "outputs": [],
   "source": [
    "accuracy_score(y_test, y_knn_expanded_pred)"
   ]
  },
  {
   "cell_type": "code",
   "execution_count": null,
   "metadata": {},
   "outputs": [],
   "source": [
    "ambiguous_digit = X_test[2589]\n",
    "knn_clf.predict_proba([ambiguous_digit])"
   ]
  },
  {
   "cell_type": "code",
   "execution_count": null,
   "metadata": {},
   "outputs": [],
   "source": [
    "plot_digit(ambiguous_digit)"
   ]
  },
  {
   "cell_type": "markdown",
   "metadata": {
    "collapsed": true
   },
   "source": [
    "# Exercise solutions"
   ]
  },
  {
   "cell_type": "markdown",
   "metadata": {},
   "source": [
    "## 1. An MNIST Classifier With Over 97% Accuracy"
   ]
  },
  {
   "cell_type": "markdown",
   "metadata": {},
   "source": [
    "**Warning**: the next cell may take hours to run, depending on your hardware."
   ]
  },
  {
   "cell_type": "code",
   "execution_count": null,
   "metadata": {},
   "outputs": [],
   "source": [
    "from sklearn.model_selection import GridSearchCV\n",
    "\n",
    "param_grid = [{'weights': [\"uniform\", \"distance\"], 'n_neighbors': [3, 4, 5]}]\n",
    "\n",
    "knn_clf = KNeighborsClassifier()\n",
    "grid_search = GridSearchCV(knn_clf, param_grid, cv=5, verbose=3, n_jobs=-1)\n",
    "grid_search.fit(X_train, y_train)"
   ]
  },
  {
   "cell_type": "code",
   "execution_count": null,
   "metadata": {},
   "outputs": [],
   "source": [
    "grid_search.best_params_"
   ]
  },
  {
   "cell_type": "code",
   "execution_count": null,
   "metadata": {},
   "outputs": [],
   "source": [
    "grid_search.best_score_"
   ]
  },
  {
   "cell_type": "code",
   "execution_count": null,
   "metadata": {},
   "outputs": [],
   "source": [
    "from sklearn.metrics import accuracy_score\n",
    "\n",
    "y_pred = grid_search.predict(X_test)\n",
    "accuracy_score(y_test, y_pred)"
   ]
  },
  {
   "cell_type": "markdown",
   "metadata": {},
   "source": [
    "## 2. Data Augmentation"
   ]
  },
  {
   "cell_type": "code",
   "execution_count": null,
   "metadata": {},
   "outputs": [],
   "source": [
    "from scipy.ndimage.interpolation import shift"
   ]
  },
  {
   "cell_type": "code",
   "execution_count": null,
   "metadata": {},
   "outputs": [],
   "source": [
    "def shift_image(image, dx, dy):\n",
    "    image = image.reshape((28, 28))\n",
    "    shifted_image = shift(image, [dy, dx], cval=0, mode=\"constant\")\n",
    "    return shifted_image.reshape([-1])"
   ]
  },
  {
   "cell_type": "code",
   "execution_count": null,
   "metadata": {},
   "outputs": [],
   "source": [
    "image = X_train[1000]\n",
    "shifted_image_down = shift_image(image, 0, 5)\n",
    "shifted_image_left = shift_image(image, -5, 0)\n",
    "\n",
    "plt.figure(figsize=(12,3))\n",
    "plt.subplot(131)\n",
    "plt.title(\"Original\", fontsize=14)\n",
    "plt.imshow(image.reshape(28, 28), interpolation=\"nearest\", cmap=\"Greys\")\n",
    "plt.subplot(132)\n",
    "plt.title(\"Shifted down\", fontsize=14)\n",
    "plt.imshow(shifted_image_down.reshape(28, 28), interpolation=\"nearest\", cmap=\"Greys\")\n",
    "plt.subplot(133)\n",
    "plt.title(\"Shifted left\", fontsize=14)\n",
    "plt.imshow(shifted_image_left.reshape(28, 28), interpolation=\"nearest\", cmap=\"Greys\")\n",
    "plt.show()"
   ]
  },
  {
   "cell_type": "code",
   "execution_count": null,
   "metadata": {},
   "outputs": [],
   "source": [
    "X_train_augmented = [image for image in X_train]\n",
    "y_train_augmented = [label for label in y_train]\n",
    "\n",
    "for dx, dy in ((1, 0), (-1, 0), (0, 1), (0, -1)):\n",
    "    for image, label in zip(X_train, y_train):\n",
    "        X_train_augmented.append(shift_image(image, dx, dy))\n",
    "        y_train_augmented.append(label)\n",
    "\n",
    "X_train_augmented = np.array(X_train_augmented)\n",
    "y_train_augmented = np.array(y_train_augmented)"
   ]
  },
  {
   "cell_type": "code",
   "execution_count": null,
   "metadata": {},
   "outputs": [],
   "source": [
    "shuffle_idx = np.random.permutation(len(X_train_augmented))\n",
    "X_train_augmented = X_train_augmented[shuffle_idx]\n",
    "y_train_augmented = y_train_augmented[shuffle_idx]"
   ]
  },
  {
   "cell_type": "code",
   "execution_count": null,
   "metadata": {},
   "outputs": [],
   "source": [
    "knn_clf = KNeighborsClassifier(**grid_search.best_params_)"
   ]
  },
  {
   "cell_type": "code",
   "execution_count": null,
   "metadata": {},
   "outputs": [],
   "source": [
    "knn_clf.fit(X_train_augmented, y_train_augmented)"
   ]
  },
  {
   "cell_type": "code",
   "execution_count": null,
   "metadata": {},
   "outputs": [],
   "source": [
    "y_pred = knn_clf.predict(X_test)\n",
    "accuracy_score(y_test, y_pred)"
   ]
  },
  {
   "cell_type": "markdown",
   "metadata": {},
   "source": [
    "By simply augmenting the data, we got a 0.5% accuracy boost. :)"
   ]
  },
  {
   "cell_type": "markdown",
   "metadata": {},
   "source": [
    "## 3. Tackle the Titanic dataset"
   ]
  },
  {
   "cell_type": "markdown",
   "metadata": {},
   "source": [
    "The goal is to predict whether or not a passenger survived based on attributes such as their age, sex, passenger class, where they embarked and so on."
   ]
  },
  {
   "cell_type": "markdown",
   "metadata": {},
   "source": [
    "First, login to [Kaggle](https://www.kaggle.com/) and go to the [Titanic challenge](https://www.kaggle.com/c/titanic) to download `train.csv` and `test.csv`. Save them to the `datasets/titanic` directory."
   ]
  },
  {
   "cell_type": "markdown",
   "metadata": {},
   "source": [
    "Next, let's load the data:"
   ]
  },
  {
   "cell_type": "code",
   "execution_count": null,
   "metadata": {},
   "outputs": [],
   "source": [
    "import os\n",
    "\n",
    "TITANIC_PATH = os.path.join(\"datasets\", \"titanic\")"
   ]
  },
  {
   "cell_type": "code",
   "execution_count": null,
   "metadata": {},
   "outputs": [],
   "source": [
    "import pandas as pd\n",
    "\n",
    "def load_titanic_data(filename, titanic_path=TITANIC_PATH):\n",
    "    csv_path = os.path.join(titanic_path, filename)\n",
    "    return pd.read_csv(csv_path)"
   ]
  },
  {
   "cell_type": "code",
   "execution_count": null,
   "metadata": {},
   "outputs": [],
   "source": [
    "train_data = load_titanic_data(\"train.csv\")\n",
    "test_data = load_titanic_data(\"test.csv\")"
   ]
  },
  {
   "cell_type": "markdown",
   "metadata": {},
   "source": [
    "The data is already split into a training set and a test set. However, the test data does *not* contain the labels: your goal is to train the best model you can using the training data, then make your predictions on the test data and upload them to Kaggle to see your final score."
   ]
  },
  {
   "cell_type": "markdown",
   "metadata": {},
   "source": [
    "Let's take a peek at the top few rows of the training set:"
   ]
  },
  {
   "cell_type": "code",
   "execution_count": null,
   "metadata": {},
   "outputs": [],
   "source": [
    "train_data.head()"
   ]
  },
  {
   "cell_type": "markdown",
   "metadata": {},
   "source": [
    "The attributes have the following meaning:\n",
    "* **Survived**: that's the target, 0 means the passenger did not survive, while 1 means he/she survived.\n",
    "* **Pclass**: passenger class.\n",
    "* **Name**, **Sex**, **Age**: self-explanatory\n",
    "* **SibSp**: how many siblings & spouses of the passenger aboard the Titanic.\n",
    "* **Parch**: how many children & parents of the passenger aboard the Titanic.\n",
    "* **Ticket**: ticket id\n",
    "* **Fare**: price paid (in pounds)\n",
    "* **Cabin**: passenger's cabin number\n",
    "* **Embarked**: where the passenger embarked the Titanic"
   ]
  },
  {
   "cell_type": "markdown",
   "metadata": {},
   "source": [
    "Let's get more info to see how much data is missing:"
   ]
  },
  {
   "cell_type": "code",
   "execution_count": null,
   "metadata": {},
   "outputs": [],
   "source": [
    "train_data.info()"
   ]
  },
  {
   "cell_type": "markdown",
   "metadata": {},
   "source": [
    "Okay, the **Age**, **Cabin** and **Embarked** attributes are sometimes null (less than 891 non-null), especially the **Cabin** (77% are null). We will ignore the **Cabin** for now and focus on the rest. The **Age** attribute has about 19% null values, so we will need to decide what to do with them. Replacing null values with the median age seems reasonable."
   ]
  },
  {
   "cell_type": "markdown",
   "metadata": {},
   "source": [
    "The **Name** and **Ticket** attributes may have some value, but they will be a bit tricky to convert into useful numbers that a model can consume. So for now, we will ignore them."
   ]
  },
  {
   "cell_type": "markdown",
   "metadata": {},
   "source": [
    "Let's take a look at the numerical attributes:"
   ]
  },
  {
   "cell_type": "code",
   "execution_count": null,
   "metadata": {},
   "outputs": [],
   "source": [
    "train_data.describe()"
   ]
  },
  {
   "cell_type": "markdown",
   "metadata": {},
   "source": [
    "* Yikes, only 38% **Survived**. :(  That's close enough to 40%, so accuracy will be a reasonable metric to evaluate our model.\n",
    "* The mean **Fare** was £32.20, which does not seem so expensive (but it was probably a lot of money back then).\n",
    "* The mean **Age** was less than 30 years old."
   ]
  },
  {
   "cell_type": "markdown",
   "metadata": {},
   "source": [
    "Let's check that the target is indeed 0 or 1:"
   ]
  },
  {
   "cell_type": "code",
   "execution_count": null,
   "metadata": {},
   "outputs": [],
   "source": [
    "train_data[\"Survived\"].value_counts()"
   ]
  },
  {
   "cell_type": "markdown",
   "metadata": {},
   "source": [
    "Now let's take a quick look at all the categorical attributes:"
   ]
  },
  {
   "cell_type": "code",
   "execution_count": null,
   "metadata": {},
   "outputs": [],
   "source": [
    "train_data[\"Pclass\"].value_counts()"
   ]
  },
  {
   "cell_type": "code",
   "execution_count": null,
   "metadata": {},
   "outputs": [],
   "source": [
    "train_data[\"Sex\"].value_counts()"
   ]
  },
  {
   "cell_type": "code",
   "execution_count": null,
   "metadata": {},
   "outputs": [],
   "source": [
    "train_data[\"Embarked\"].value_counts()"
   ]
  },
  {
   "cell_type": "markdown",
   "metadata": {},
   "source": [
    "The Embarked attribute tells us where the passenger embarked: C=Cherbourg, Q=Queenstown, S=Southampton."
   ]
  },
  {
   "cell_type": "markdown",
   "metadata": {},
   "source": [
    "Now let's build our preprocessing pipelines. We will reuse the `DataframeSelector` we built in the previous chapter to select specific attributes from the `DataFrame`:"
   ]
  },
  {
   "cell_type": "code",
   "execution_count": null,
   "metadata": {},
   "outputs": [],
   "source": [
    "from sklearn.base import BaseEstimator, TransformerMixin\n",
    "\n",
    "# A class to select numerical or categorical columns \n",
    "# since Scikit-Learn doesn't handle DataFrames yet\n",
    "class DataFrameSelector(BaseEstimator, TransformerMixin):\n",
    "    def __init__(self, attribute_names):\n",
    "        self.attribute_names = attribute_names\n",
    "    def fit(self, X, y=None):\n",
    "        return self\n",
    "    def transform(self, X):\n",
    "        return X[self.attribute_names]"
   ]
  },
  {
   "cell_type": "markdown",
   "metadata": {},
   "source": [
    "Let's build the pipeline for the numerical attributes:\n",
    "\n",
    "**Warning**: Since Scikit-Learn 0.20, the `sklearn.preprocessing.Imputer` class was replaced by the `sklearn.impute.SimpleImputer` class."
   ]
  },
  {
   "cell_type": "code",
   "execution_count": null,
   "metadata": {},
   "outputs": [],
   "source": [
    "from sklearn.pipeline import Pipeline\n",
    "try:\n",
    "    from sklearn.impute import SimpleImputer # Scikit-Learn 0.20+\n",
    "except ImportError:\n",
    "    from sklearn.preprocessing import Imputer as SimpleImputer\n",
    "\n",
    "num_pipeline = Pipeline([\n",
    "        (\"select_numeric\", DataFrameSelector([\"Age\", \"SibSp\", \"Parch\", \"Fare\"])),\n",
    "        (\"imputer\", SimpleImputer(strategy=\"median\")),\n",
    "    ])"
   ]
  },
  {
   "cell_type": "code",
   "execution_count": null,
   "metadata": {},
   "outputs": [],
   "source": [
    "num_pipeline.fit_transform(train_data)"
   ]
  },
  {
   "cell_type": "markdown",
   "metadata": {},
   "source": [
    "We will also need an imputer for the string categorical columns (the regular `SimpleImputer` does not work on those):"
   ]
  },
  {
   "cell_type": "code",
   "execution_count": null,
   "metadata": {},
   "outputs": [],
   "source": [
    "# Inspired from stackoverflow.com/questions/25239958\n",
    "class MostFrequentImputer(BaseEstimator, TransformerMixin):\n",
    "    def fit(self, X, y=None):\n",
    "        self.most_frequent_ = pd.Series([X[c].value_counts().index[0] for c in X],\n",
    "                                        index=X.columns)\n",
    "        return self\n",
    "    def transform(self, X, y=None):\n",
    "        return X.fillna(self.most_frequent_)"
   ]
  },
  {
   "cell_type": "markdown",
   "metadata": {},
   "source": [
    "**Warning**: earlier versions of the book used the `LabelBinarizer` or `CategoricalEncoder` classes to convert each categorical value to a one-hot vector. It is now preferable to use the `OneHotEncoder` class. Since Scikit-Learn 0.20 it can handle string categorical inputs (see [PR #10521](https://github.com/scikit-learn/scikit-learn/issues/10521)), not just integer categorical inputs. If you are using an older version of Scikit-Learn, you can import the new version from `future_encoders.py`:"
   ]
  },
  {
   "cell_type": "code",
   "execution_count": null,
   "metadata": {},
   "outputs": [],
   "source": [
    "try:\n",
    "    from sklearn.preprocessing import OrdinalEncoder # just to raise an ImportError if Scikit-Learn < 0.20\n",
    "    from sklearn.preprocessing import OneHotEncoder\n",
    "except ImportError:\n",
    "    from future_encoders import OneHotEncoder # Scikit-Learn < 0.20"
   ]
  },
  {
   "cell_type": "markdown",
   "metadata": {},
   "source": [
    "Now we can build the pipeline for the categorical attributes:"
   ]
  },
  {
   "cell_type": "code",
   "execution_count": null,
   "metadata": {},
   "outputs": [],
   "source": [
    "cat_pipeline = Pipeline([\n",
    "        (\"select_cat\", DataFrameSelector([\"Pclass\", \"Sex\", \"Embarked\"])),\n",
    "        (\"imputer\", MostFrequentImputer()),\n",
    "        (\"cat_encoder\", OneHotEncoder(sparse=False)),\n",
    "    ])"
   ]
  },
  {
   "cell_type": "code",
   "execution_count": null,
   "metadata": {},
   "outputs": [],
   "source": [
    "cat_pipeline.fit_transform(train_data)"
   ]
  },
  {
   "cell_type": "markdown",
   "metadata": {},
   "source": [
    "Finally, let's join the numerical and categorical pipelines:"
   ]
  },
  {
   "cell_type": "code",
   "execution_count": null,
   "metadata": {},
   "outputs": [],
   "source": [
    "from sklearn.pipeline import FeatureUnion\n",
    "preprocess_pipeline = FeatureUnion(transformer_list=[\n",
    "        (\"num_pipeline\", num_pipeline),\n",
    "        (\"cat_pipeline\", cat_pipeline),\n",
    "    ])"
   ]
  },
  {
   "cell_type": "markdown",
   "metadata": {},
   "source": [
    "Cool! Now we have a nice preprocessing pipeline that takes the raw data and outputs numerical input features that we can feed to any Machine Learning model we want."
   ]
  },
  {
   "cell_type": "code",
   "execution_count": null,
   "metadata": {},
   "outputs": [],
   "source": [
    "X_train = preprocess_pipeline.fit_transform(train_data)\n",
    "X_train"
   ]
  },
  {
   "cell_type": "markdown",
   "metadata": {},
   "source": [
    "Let's not forget to get the labels:"
   ]
  },
  {
   "cell_type": "code",
   "execution_count": null,
   "metadata": {},
   "outputs": [],
   "source": [
    "y_train = train_data[\"Survived\"]"
   ]
  },
  {
   "cell_type": "markdown",
   "metadata": {},
   "source": [
    "We are now ready to train a classifier. Let's start with an `SVC`:"
   ]
  },
  {
   "cell_type": "code",
   "execution_count": null,
   "metadata": {},
   "outputs": [],
   "source": [
    "from sklearn.svm import SVC\n",
    "\n",
    "svm_clf = SVC(gamma=\"auto\")\n",
    "svm_clf.fit(X_train, y_train)"
   ]
  },
  {
   "cell_type": "markdown",
   "metadata": {},
   "source": [
    "Great, our model is trained, let's use it to make predictions on the test set:"
   ]
  },
  {
   "cell_type": "code",
   "execution_count": null,
   "metadata": {},
   "outputs": [],
   "source": [
    "X_test = preprocess_pipeline.transform(test_data)\n",
    "y_pred = svm_clf.predict(X_test)"
   ]
  },
  {
   "cell_type": "markdown",
   "metadata": {},
   "source": [
    "And now we could just build a CSV file with these predictions (respecting the format excepted by Kaggle), then upload it and hope for the best. But wait! We can do better than hope. Why don't we use cross-validation to have an idea of how good our model is?"
   ]
  },
  {
   "cell_type": "code",
   "execution_count": null,
   "metadata": {},
   "outputs": [],
   "source": [
    "from sklearn.model_selection import cross_val_score\n",
    "\n",
    "svm_scores = cross_val_score(svm_clf, X_train, y_train, cv=10)\n",
    "svm_scores.mean()"
   ]
  },
  {
   "cell_type": "markdown",
   "metadata": {},
   "source": [
    "Okay, over 73% accuracy, clearly better than random chance, but it's not a great score. Looking at the [leaderboard](https://www.kaggle.com/c/titanic/leaderboard) for the Titanic competition on Kaggle, you can see that you need to reach above 80% accuracy to be within the top 10% Kagglers. Some reached 100%, but since you can easily find the [list of victims](https://www.encyclopedia-titanica.org/titanic-victims/) of the Titanic, it seems likely that there was little Machine Learning involved in their performance! ;-) So let's try to build a model that reaches 80% accuracy."
   ]
  },
  {
   "cell_type": "markdown",
   "metadata": {},
   "source": [
    "Let's try a `RandomForestClassifier`:"
   ]
  },
  {
   "cell_type": "code",
   "execution_count": null,
   "metadata": {},
   "outputs": [],
   "source": [
    "from sklearn.ensemble import RandomForestClassifier\n",
    "\n",
    "forest_clf = RandomForestClassifier(n_estimators=100, random_state=42)\n",
    "forest_scores = cross_val_score(forest_clf, X_train, y_train, cv=10)\n",
    "forest_scores.mean()"
   ]
  },
  {
   "cell_type": "markdown",
   "metadata": {},
   "source": [
    "That's much better!"
   ]
  },
  {
   "cell_type": "markdown",
   "metadata": {},
   "source": [
    "Instead of just looking at the mean accuracy across the 10 cross-validation folds, let's plot all 10 scores for each model, along with a box plot highlighting the lower and upper quartiles, and \"whiskers\" showing the extent of the scores (thanks to Nevin Yilmaz for suggesting this visualization). Note that the `boxplot()` function detects outliers (called \"fliers\") and does not include them within the whiskers. Specifically, if the lower quartile is $Q_1$ and the upper quartile is $Q_3$, then the interquartile range $IQR = Q_3 - Q_1$ (this is the box's height), and any score lower than $Q_1 - 1.5 \\times IQR$ is a flier, and so is any score greater than $Q3 + 1.5 \\times IQR$."
   ]
  },
  {
   "cell_type": "code",
   "execution_count": null,
   "metadata": {},
   "outputs": [],
   "source": [
    "plt.figure(figsize=(8, 4))\n",
    "plt.plot([1]*10, svm_scores, \".\")\n",
    "plt.plot([2]*10, forest_scores, \".\")\n",
    "plt.boxplot([svm_scores, forest_scores], labels=(\"SVM\",\"Random Forest\"))\n",
    "plt.ylabel(\"Accuracy\", fontsize=14)\n",
    "plt.show()"
   ]
  },
  {
   "cell_type": "markdown",
   "metadata": {},
   "source": [
    "To improve this result further, you could:\n",
    "* Compare many more models and tune hyperparameters using cross validation and grid search,\n",
    "* Do more feature engineering, for example:\n",
    "  * replace **SibSp** and **Parch** with their sum,\n",
    "  * try to identify parts of names that correlate well with the **Survived** attribute (e.g. if the name contains \"Countess\", then survival seems more likely),\n",
    "* try to convert numerical attributes to categorical attributes: for example, different age groups had very different survival rates (see below), so it may help to create an age bucket category and use it instead of the age. Similarly, it may be useful to have a special category for people traveling alone since only 30% of them survived (see below)."
   ]
  },
  {
   "cell_type": "code",
   "execution_count": null,
   "metadata": {},
   "outputs": [],
   "source": [
    "train_data[\"AgeBucket\"] = train_data[\"Age\"] // 15 * 15\n",
    "train_data[[\"AgeBucket\", \"Survived\"]].groupby(['AgeBucket']).mean()"
   ]
  },
  {
   "cell_type": "code",
   "execution_count": null,
   "metadata": {},
   "outputs": [],
   "source": [
    "train_data[\"RelativesOnboard\"] = train_data[\"SibSp\"] + train_data[\"Parch\"]\n",
    "train_data[[\"RelativesOnboard\", \"Survived\"]].groupby(['RelativesOnboard']).mean()"
   ]
  },
  {
   "cell_type": "markdown",
   "metadata": {},
   "source": [
    "## 4. Spam classifier"
   ]
  },
  {
   "cell_type": "markdown",
   "metadata": {},
   "source": [
    "First, let's fetch the data:"
   ]
  },
  {
   "cell_type": "code",
   "execution_count": null,
   "metadata": {},
   "outputs": [],
   "source": [
    "import os\n",
    "import tarfile\n",
    "from six.moves import urllib\n",
    "\n",
    "DOWNLOAD_ROOT = \"http://spamassassin.apache.org/old/publiccorpus/\"\n",
    "HAM_URL = DOWNLOAD_ROOT + \"20030228_easy_ham.tar.bz2\"\n",
    "SPAM_URL = DOWNLOAD_ROOT + \"20030228_spam.tar.bz2\"\n",
    "SPAM_PATH = os.path.join(\"datasets\", \"spam\")\n",
    "\n",
    "def fetch_spam_data(spam_url=SPAM_URL, spam_path=SPAM_PATH):\n",
    "    if not os.path.isdir(spam_path):\n",
    "        os.makedirs(spam_path)\n",
    "    for filename, url in ((\"ham.tar.bz2\", HAM_URL), (\"spam.tar.bz2\", SPAM_URL)):\n",
    "        path = os.path.join(spam_path, filename)\n",
    "        if not os.path.isfile(path):\n",
    "            urllib.request.urlretrieve(url, path)\n",
    "        tar_bz2_file = tarfile.open(path)\n",
    "        tar_bz2_file.extractall(path=SPAM_PATH)\n",
    "        tar_bz2_file.close()"
   ]
  },
  {
   "cell_type": "code",
   "execution_count": null,
   "metadata": {},
   "outputs": [],
   "source": [
    "fetch_spam_data()"
   ]
  },
  {
   "cell_type": "markdown",
   "metadata": {},
   "source": [
    "Next, let's load all the emails:"
   ]
  },
  {
   "cell_type": "code",
   "execution_count": null,
   "metadata": {},
   "outputs": [],
   "source": [
    "HAM_DIR = os.path.join(SPAM_PATH, \"easy_ham\")\n",
    "SPAM_DIR = os.path.join(SPAM_PATH, \"spam\")\n",
    "ham_filenames = [name for name in sorted(os.listdir(HAM_DIR)) if len(name) > 20]\n",
    "spam_filenames = [name for name in sorted(os.listdir(SPAM_DIR)) if len(name) > 20]"
   ]
  },
  {
   "cell_type": "code",
   "execution_count": null,
   "metadata": {},
   "outputs": [],
   "source": [
    "len(ham_filenames)"
   ]
  },
  {
   "cell_type": "code",
   "execution_count": null,
   "metadata": {},
   "outputs": [],
   "source": [
    "len(spam_filenames)"
   ]
  },
  {
   "cell_type": "markdown",
   "metadata": {},
   "source": [
    "We can use Python's `email` module to parse these emails (this handles headers, encoding, and so on):"
   ]
  },
  {
   "cell_type": "code",
   "execution_count": null,
   "metadata": {},
   "outputs": [],
   "source": [
    "import email\n",
    "import email.policy\n",
    "\n",
    "def load_email(is_spam, filename, spam_path=SPAM_PATH):\n",
    "    directory = \"spam\" if is_spam else \"easy_ham\"\n",
    "    with open(os.path.join(spam_path, directory, filename), \"rb\") as f:\n",
    "        return email.parser.BytesParser(policy=email.policy.default).parse(f)"
   ]
  },
  {
   "cell_type": "code",
   "execution_count": null,
   "metadata": {},
   "outputs": [],
   "source": [
    "ham_emails = [load_email(is_spam=False, filename=name) for name in ham_filenames]\n",
    "spam_emails = [load_email(is_spam=True, filename=name) for name in spam_filenames]"
   ]
  },
  {
   "cell_type": "markdown",
   "metadata": {},
   "source": [
    "Let's look at one example of ham and one example of spam, to get a feel of what the data looks like:"
   ]
  },
  {
   "cell_type": "code",
   "execution_count": null,
   "metadata": {},
   "outputs": [],
   "source": [
    "print(ham_emails[1].get_content().strip())"
   ]
  },
  {
   "cell_type": "code",
   "execution_count": null,
   "metadata": {},
   "outputs": [],
   "source": [
    "print(spam_emails[6].get_content().strip())"
   ]
  },
  {
   "cell_type": "markdown",
   "metadata": {},
   "source": [
    "Some emails are actually multipart, with images and attachments (which can have their own attachments). Let's look at the various types of structures we have:"
   ]
  },
  {
   "cell_type": "code",
   "execution_count": null,
   "metadata": {},
   "outputs": [],
   "source": [
    "def get_email_structure(email):\n",
    "    if isinstance(email, str):\n",
    "        return email\n",
    "    payload = email.get_payload()\n",
    "    if isinstance(payload, list):\n",
    "        return \"multipart({})\".format(\", \".join([\n",
    "            get_email_structure(sub_email)\n",
    "            for sub_email in payload\n",
    "        ]))\n",
    "    else:\n",
    "        return email.get_content_type()"
   ]
  },
  {
   "cell_type": "code",
   "execution_count": null,
   "metadata": {},
   "outputs": [],
   "source": [
    "from collections import Counter\n",
    "\n",
    "def structures_counter(emails):\n",
    "    structures = Counter()\n",
    "    for email in emails:\n",
    "        structure = get_email_structure(email)\n",
    "        structures[structure] += 1\n",
    "    return structures"
   ]
  },
  {
   "cell_type": "code",
   "execution_count": null,
   "metadata": {},
   "outputs": [],
   "source": [
    "structures_counter(ham_emails).most_common()"
   ]
  },
  {
   "cell_type": "code",
   "execution_count": null,
   "metadata": {},
   "outputs": [],
   "source": [
    "structures_counter(spam_emails).most_common()"
   ]
  },
  {
   "cell_type": "markdown",
   "metadata": {},
   "source": [
    "It seems that the ham emails are more often plain text, while spam has quite a lot of HTML. Moreover, quite a few ham emails are signed using PGP, while no spam is. In short, it seems that the email structure is useful information to have."
   ]
  },
  {
   "cell_type": "markdown",
   "metadata": {},
   "source": [
    "Now let's take a look at the email headers:"
   ]
  },
  {
   "cell_type": "code",
   "execution_count": null,
   "metadata": {},
   "outputs": [],
   "source": [
    "for header, value in spam_emails[0].items():\n",
    "    print(header,\":\",value)"
   ]
  },
  {
   "cell_type": "markdown",
   "metadata": {},
   "source": [
    "There's probably a lot of useful information in there, such as the sender's email address (12a1mailbot1@web.de looks fishy), but we will just focus on the `Subject` header:"
   ]
  },
  {
   "cell_type": "code",
   "execution_count": null,
   "metadata": {},
   "outputs": [],
   "source": [
    "spam_emails[0][\"Subject\"]"
   ]
  },
  {
   "cell_type": "markdown",
   "metadata": {},
   "source": [
    "Okay, before we learn too much about the data, let's not forget to split it into a training set and a test set:"
   ]
  },
  {
   "cell_type": "code",
   "execution_count": null,
   "metadata": {},
   "outputs": [],
   "source": [
    "import numpy as np\n",
    "from sklearn.model_selection import train_test_split\n",
    "\n",
    "X = np.array(ham_emails + spam_emails)\n",
    "y = np.array([0] * len(ham_emails) + [1] * len(spam_emails))\n",
    "\n",
    "X_train, X_test, y_train, y_test = train_test_split(X, y, test_size=0.2, random_state=42)"
   ]
  },
  {
   "cell_type": "markdown",
   "metadata": {},
   "source": [
    "Okay, let's start writing the preprocessing functions. First, we will need a function to convert HTML to plain text. Arguably the best way to do this would be to use the great [BeautifulSoup](https://www.crummy.com/software/BeautifulSoup/) library, but I would like to avoid adding another dependency to this project, so let's hack a quick & dirty solution using regular expressions (at the risk of [un̨ho͞ly radiańcé destro҉ying all enli̍̈́̂̈́ghtenment](https://stackoverflow.com/a/1732454/38626)). The following function first drops the `<head>` section, then converts all `<a>` tags to the word HYPERLINK, then it gets rid of all HTML tags, leaving only the plain text. For readability, it also replaces multiple newlines with single newlines, and finally it unescapes html entities (such as `&gt;` or `&nbsp;`):"
   ]
  },
  {
   "cell_type": "code",
   "execution_count": null,
   "metadata": {},
   "outputs": [],
   "source": [
    "import re\n",
    "from html import unescape\n",
    "\n",
    "def html_to_plain_text(html):\n",
    "    text = re.sub('<head.*?>.*?</head>', '', html, flags=re.M | re.S | re.I)\n",
    "    text = re.sub('<a\\s.*?>', ' HYPERLINK ', text, flags=re.M | re.S | re.I)\n",
    "    text = re.sub('<.*?>', '', text, flags=re.M | re.S)\n",
    "    text = re.sub(r'(\\s*\\n)+', '\\n', text, flags=re.M | re.S)\n",
    "    return unescape(text)"
   ]
  },
  {
   "cell_type": "markdown",
   "metadata": {},
   "source": [
    "Let's see if it works. This is HTML spam:"
   ]
  },
  {
   "cell_type": "code",
   "execution_count": null,
   "metadata": {},
   "outputs": [],
   "source": [
    "html_spam_emails = [email for email in X_train[y_train==1]\n",
    "                    if get_email_structure(email) == \"text/html\"]\n",
    "sample_html_spam = html_spam_emails[7]\n",
    "print(sample_html_spam.get_content().strip()[:1000], \"...\")"
   ]
  },
  {
   "cell_type": "markdown",
   "metadata": {},
   "source": [
    "And this is the resulting plain text:"
   ]
  },
  {
   "cell_type": "code",
   "execution_count": null,
   "metadata": {},
   "outputs": [],
   "source": [
    "print(html_to_plain_text(sample_html_spam.get_content())[:1000], \"...\")"
   ]
  },
  {
   "cell_type": "markdown",
   "metadata": {},
   "source": [
    "Great! Now let's write a function that takes an email as input and returns its content as plain text, whatever its format is:"
   ]
  },
  {
   "cell_type": "code",
   "execution_count": null,
   "metadata": {},
   "outputs": [],
   "source": [
    "def email_to_text(email):\n",
    "    html = None\n",
    "    for part in email.walk():\n",
    "        ctype = part.get_content_type()\n",
    "        if not ctype in (\"text/plain\", \"text/html\"):\n",
    "            continue\n",
    "        try:\n",
    "            content = part.get_content()\n",
    "        except: # in case of encoding issues\n",
    "            content = str(part.get_payload())\n",
    "        if ctype == \"text/plain\":\n",
    "            return content\n",
    "        else:\n",
    "            html = content\n",
    "    if html:\n",
    "        return html_to_plain_text(html)"
   ]
  },
  {
   "cell_type": "code",
   "execution_count": null,
   "metadata": {},
   "outputs": [],
   "source": [
    "print(email_to_text(sample_html_spam)[:100], \"...\")"
   ]
  },
  {
   "cell_type": "markdown",
   "metadata": {},
   "source": [
    "Let's throw in some stemming! For this to work, you need to install the Natural Language Toolkit ([NLTK](http://www.nltk.org/)). It's as simple as running the following command (don't forget to activate your virtualenv first; if you don't have one, you will likely need administrator rights, or use the `--user` option):\n",
    "\n",
    "`$ pip3 install nltk`"
   ]
  },
  {
   "cell_type": "code",
   "execution_count": null,
   "metadata": {},
   "outputs": [],
   "source": [
    "try:\n",
    "    import nltk\n",
    "\n",
    "    stemmer = nltk.PorterStemmer()\n",
    "    for word in (\"Computations\", \"Computation\", \"Computing\", \"Computed\", \"Compute\", \"Compulsive\"):\n",
    "        print(word, \"=>\", stemmer.stem(word))\n",
    "except ImportError:\n",
    "    print(\"Error: stemming requires the NLTK module.\")\n",
    "    stemmer = None"
   ]
  },
  {
   "cell_type": "markdown",
   "metadata": {},
   "source": [
    "We will also need a way to replace URLs with the word \"URL\". For this, we could use hard core [regular expressions](https://mathiasbynens.be/demo/url-regex) but we will just use the [urlextract](https://github.com/lipoja/URLExtract) library. You can install it with the following command (don't forget to activate your virtualenv first; if you don't have one, you will likely need administrator rights, or use the `--user` option):\n",
    "\n",
    "`$ pip3 install urlextract`"
   ]
  },
  {
   "cell_type": "code",
   "execution_count": null,
   "metadata": {},
   "outputs": [],
   "source": [
    "try:\n",
    "    import urlextract # may require an Internet connection to download root domain names\n",
    "    \n",
    "    url_extractor = urlextract.URLExtract()\n",
    "    print(url_extractor.find_urls(\"Will it detect github.com and https://youtu.be/7Pq-S557XQU?t=3m32s\"))\n",
    "except ImportError:\n",
    "    print(\"Error: replacing URLs requires the urlextract module.\")\n",
    "    url_extractor = None"
   ]
  },
  {
   "cell_type": "markdown",
   "metadata": {},
   "source": [
    "We are ready to put all this together into a transformer that we will use to convert emails to word counters. Note that we split sentences into words using Python's `split()` method, which uses whitespaces for word boundaries. This works for many written languages, but not all. For example, Chinese and Japanese scripts generally don't use spaces between words, and Vietnamese often uses spaces even between syllables. It's okay in this exercise, because the dataset is (mostly) in English."
   ]
  },
  {
   "cell_type": "code",
   "execution_count": null,
   "metadata": {},
   "outputs": [],
   "source": [
    "from sklearn.base import BaseEstimator, TransformerMixin\n",
    "\n",
    "class EmailToWordCounterTransformer(BaseEstimator, TransformerMixin):\n",
    "    def __init__(self, strip_headers=True, lower_case=True, remove_punctuation=True,\n",
    "                 replace_urls=True, replace_numbers=True, stemming=True):\n",
    "        self.strip_headers = strip_headers\n",
    "        self.lower_case = lower_case\n",
    "        self.remove_punctuation = remove_punctuation\n",
    "        self.replace_urls = replace_urls\n",
    "        self.replace_numbers = replace_numbers\n",
    "        self.stemming = stemming\n",
    "    def fit(self, X, y=None):\n",
    "        return self\n",
    "    def transform(self, X, y=None):\n",
    "        X_transformed = []\n",
    "        for email in X:\n",
    "            text = email_to_text(email) or \"\"\n",
    "            if self.lower_case:\n",
    "                text = text.lower()\n",
    "            if self.replace_urls and url_extractor is not None:\n",
    "                urls = list(set(url_extractor.find_urls(text)))\n",
    "                urls.sort(key=lambda url: len(url), reverse=True)\n",
    "                for url in urls:\n",
    "                    text = text.replace(url, \" URL \")\n",
    "            if self.replace_numbers:\n",
    "                text = re.sub(r'\\d+(?:\\.\\d*(?:[eE]\\d+))?', 'NUMBER', text)\n",
    "            if self.remove_punctuation:\n",
    "                text = re.sub(r'\\W+', ' ', text, flags=re.M)\n",
    "            word_counts = Counter(text.split())\n",
    "            if self.stemming and stemmer is not None:\n",
    "                stemmed_word_counts = Counter()\n",
    "                for word, count in word_counts.items():\n",
    "                    stemmed_word = stemmer.stem(word)\n",
    "                    stemmed_word_counts[stemmed_word] += count\n",
    "                word_counts = stemmed_word_counts\n",
    "            X_transformed.append(word_counts)\n",
    "        return np.array(X_transformed)"
   ]
  },
  {
   "cell_type": "markdown",
   "metadata": {},
   "source": [
    "Let's try this transformer on a few emails:"
   ]
  },
  {
   "cell_type": "code",
   "execution_count": null,
   "metadata": {},
   "outputs": [],
   "source": [
    "X_few = X_train[:3]\n",
    "X_few_wordcounts = EmailToWordCounterTransformer().fit_transform(X_few)\n",
    "X_few_wordcounts"
   ]
  },
  {
   "cell_type": "markdown",
   "metadata": {},
   "source": [
    "This looks about right!"
   ]
  },
  {
   "cell_type": "markdown",
   "metadata": {},
   "source": [
    "Now we have the word counts, and we need to convert them to vectors. For this, we will build another transformer whose `fit()` method will build the vocabulary (an ordered list of the most common words) and whose `transform()` method will use the vocabulary to convert word counts to vectors. The output is a sparse matrix."
   ]
  },
  {
   "cell_type": "code",
   "execution_count": null,
   "metadata": {},
   "outputs": [],
   "source": [
    "from scipy.sparse import csr_matrix\n",
    "\n",
    "class WordCounterToVectorTransformer(BaseEstimator, TransformerMixin):\n",
    "    def __init__(self, vocabulary_size=1000):\n",
    "        self.vocabulary_size = vocabulary_size\n",
    "    def fit(self, X, y=None):\n",
    "        total_count = Counter()\n",
    "        for word_count in X:\n",
    "            for word, count in word_count.items():\n",
    "                total_count[word] += min(count, 10)\n",
    "        most_common = total_count.most_common()[:self.vocabulary_size]\n",
    "        self.most_common_ = most_common\n",
    "        self.vocabulary_ = {word: index + 1 for index, (word, count) in enumerate(most_common)}\n",
    "        return self\n",
    "    def transform(self, X, y=None):\n",
    "        rows = []\n",
    "        cols = []\n",
    "        data = []\n",
    "        for row, word_count in enumerate(X):\n",
    "            for word, count in word_count.items():\n",
    "                rows.append(row)\n",
    "                cols.append(self.vocabulary_.get(word, 0))\n",
    "                data.append(count)\n",
    "        return csr_matrix((data, (rows, cols)), shape=(len(X), self.vocabulary_size + 1))"
   ]
  },
  {
   "cell_type": "code",
   "execution_count": null,
   "metadata": {},
   "outputs": [],
   "source": [
    "vocab_transformer = WordCounterToVectorTransformer(vocabulary_size=10)\n",
    "X_few_vectors = vocab_transformer.fit_transform(X_few_wordcounts)\n",
    "X_few_vectors"
   ]
  },
  {
   "cell_type": "code",
   "execution_count": null,
   "metadata": {},
   "outputs": [],
   "source": [
    "X_few_vectors.toarray()"
   ]
  },
  {
   "cell_type": "markdown",
   "metadata": {},
   "source": [
    "What does this matrix mean? Well, the 64 in the third row, first column, means that the third email contains 64 words that are not part of the vocabulary. The 1 next to it means that the first word in the vocabulary is present once in this email. The 2 next to it means that the second word is present twice, and so on. You can look at the vocabulary to know which words we are talking about. The first word is \"of\", the second word is \"and\", etc."
   ]
  },
  {
   "cell_type": "code",
   "execution_count": null,
   "metadata": {},
   "outputs": [],
   "source": [
    "vocab_transformer.vocabulary_"
   ]
  },
  {
   "cell_type": "markdown",
   "metadata": {},
   "source": [
    "We are now ready to train our first spam classifier! Let's transform the whole dataset:"
   ]
  },
  {
   "cell_type": "code",
   "execution_count": null,
   "metadata": {},
   "outputs": [],
   "source": [
    "from sklearn.pipeline import Pipeline\n",
    "\n",
    "preprocess_pipeline = Pipeline([\n",
    "    (\"email_to_wordcount\", EmailToWordCounterTransformer()),\n",
    "    (\"wordcount_to_vector\", WordCounterToVectorTransformer()),\n",
    "])\n",
    "\n",
    "X_train_transformed = preprocess_pipeline.fit_transform(X_train)"
   ]
  },
  {
   "cell_type": "code",
   "execution_count": null,
   "metadata": {},
   "outputs": [],
   "source": [
    "from sklearn.linear_model import LogisticRegression\n",
    "from sklearn.model_selection import cross_val_score\n",
    "\n",
    "log_clf = LogisticRegression(solver=\"liblinear\", random_state=42)\n",
    "score = cross_val_score(log_clf, X_train_transformed, y_train, cv=3, verbose=3)\n",
    "score.mean()"
   ]
  },
  {
   "cell_type": "markdown",
   "metadata": {},
   "source": [
    "Over 98.7%, not bad for a first try! :) However, remember that we are using the \"easy\" dataset. You can try with the harder datasets, the results won't be so amazing. You would have to try multiple models, select the best ones and fine-tune them using cross-validation, and so on.\n",
    "\n",
    "But you get the picture, so let's stop now, and just print out the precision/recall we get on the test set:"
   ]
  },
  {
   "cell_type": "code",
   "execution_count": null,
   "metadata": {},
   "outputs": [],
   "source": [
    "from sklearn.metrics import precision_score, recall_score\n",
    "\n",
    "X_test_transformed = preprocess_pipeline.transform(X_test)\n",
    "\n",
    "log_clf = LogisticRegression(solver=\"liblinear\", random_state=42)\n",
    "log_clf.fit(X_train_transformed, y_train)\n",
    "\n",
    "y_pred = log_clf.predict(X_test_transformed)\n",
    "\n",
    "print(\"Precision: {:.2f}%\".format(100 * precision_score(y_test, y_pred)))\n",
    "print(\"Recall: {:.2f}%\".format(100 * recall_score(y_test, y_pred)))"
   ]
  },
  {
   "cell_type": "code",
   "execution_count": null,
   "metadata": {},
   "outputs": [],
   "source": []
  }
 ],
 "metadata": {
  "kernelspec": {
   "display_name": "Python 3",
   "language": "python",
   "name": "python3"
  },
  "language_info": {
   "codemirror_mode": {
    "name": "ipython",
    "version": 3
   },
   "file_extension": ".py",
   "mimetype": "text/x-python",
   "name": "python",
   "nbconvert_exporter": "python",
   "pygments_lexer": "ipython3",
   "version": "3.6.9"
  },
  "nav_menu": {},
  "toc": {
   "navigate_menu": true,
   "number_sections": true,
   "sideBar": true,
   "threshold": 6,
   "toc_cell": false,
   "toc_section_display": "block",
   "toc_window_display": false
  }
 },
 "nbformat": 4,
 "nbformat_minor": 1
}
